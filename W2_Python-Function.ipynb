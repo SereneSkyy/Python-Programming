{
 "cells": [
  {
   "cell_type": "markdown",
   "metadata": {},
   "source": [
    "# <center> Week 2 - Python Programming </center>\n",
    "## <center> Saurav Raj Khanal </center>"
   ]
  },
  {
   "cell_type": "markdown",
   "metadata": {},
   "source": [
    "Here is the breakdown of what we learned this week;\n",
    "### 1. Loops\n",
    "- **For Loops**: Used for iterating over elements in a sequence (e.g., lists, ranges).\n",
    "\n",
    "### 2. Range\n",
    "- Created a sequence of numbers using `range` and iterated over it with `for` loops.\n",
    "\n",
    "### 3. Common Elements in Lists\n",
    "- Found common elements between two lists using loops and list comprehensions.\n",
    "\n",
    "### 4. Exception Handling\n",
    "- **Try-Except**: Handled errors without crashing the program.\n",
    "- **Else**: Ensured that specific code runs after the `try` block, regardless of exceptions.\n",
    "\n",
    "### 5. Functions\n",
    "- Defined reusable blocks of code using `def`.\n",
    "- Used parameters and arguments, including:\n",
    "  - **Default Arguments**: Set default values for parameters.\n",
    "  - **Arbitrary Arguments**: Used `*args` for variable positional arguments and `**kwargs` for variable keyword arguments.\n",
    "- **Return Statement**: Returned values from functions to make them more versatile.\n",
    "\n",
    "### 6. Lambda Functions\n",
    "- Created short functions with `lambda` for simple operations.\n",
    "\n",
    "### 7. Practical Functions Implemented\n",
    "- **Swapping Two Numbers** without a temporary variable.\n",
    "- **Palindrome Check**: Verified if a string reads the same forwards and backwards.\n",
    "- **Vowel Count**: Counted vowels in a given string.\n",
    "- **Finding Common Elements** between two lists.\n",
    "- **Perfect Square Check**: Determined if a number is a perfect square.\n",
    "- **Character Occurrence Count**: Counted occurrences of a specific character in a string.\n",
    "- **Finding the Second Largest Number** in a list.\n",
    "- **Removing Duplicates** from a list.\n",
    "- **Multiplication Table**: Printed the multiplication table for a given number.\n",
    "- **Prime Check**: Verified if a number is prime.\n"
   ]
  },
  {
   "cell_type": "markdown",
   "metadata": {},
   "source": [
    "### For Loop\n",
    "#### Iterate over list, range (enumerator)"
   ]
  },
  {
   "cell_type": "code",
   "execution_count": 1,
   "metadata": {},
   "outputs": [
    {
     "name": "stdout",
     "output_type": "stream",
     "text": [
      "1\n",
      "2\n",
      "3\n",
      "4\n",
      "5\n"
     ]
    }
   ],
   "source": [
    "numbers = [1,2,3,4,5] # list of int\n",
    "\n",
    "#count = 0\n",
    "# while counter<len(numbers):\n",
    "#    print(numbers[counter])\n",
    "#    counter += 1\n",
    "\n",
    "for num in numbers:\n",
    "    print(num)"
   ]
  },
  {
   "cell_type": "code",
   "execution_count": 2,
   "metadata": {},
   "outputs": [
    {
     "name": "stdout",
     "output_type": "stream",
     "text": [
      "[2, 4, 2, 100]\n"
     ]
    }
   ],
   "source": [
    "# create a new list of even numbers from the given list\n",
    "num = [1, 2, 3, 4, 5, 2, 11, 100]\n",
    "new = []\n",
    "\n",
    "for i in num:\n",
    "    if i % 2 == 0:\n",
    "        new.append(i)\n",
    "\n",
    "print(new)  # This will print the list of even numbers after the loop is done.\n",
    "\n",
    "    \n",
    "\n"
   ]
  },
  {
   "cell_type": "code",
   "execution_count": 11,
   "metadata": {},
   "outputs": [
    {
     "name": "stdout",
     "output_type": "stream",
     "text": [
      "[1, 2, 3, 4, 5, 11, 100]\n"
     ]
    }
   ],
   "source": [
    "num =[1,1,2,3,4,5,3,11,100]\n",
    "\n",
    "# create new list by removing duplicate items from given list\n",
    "\n",
    "unique_num = []\n",
    "\n",
    "for i in num:\n",
    "    if i not in unique_num:\n",
    "        unique_num.append(i)\n",
    "\n",
    "print(unique_num)\n"
   ]
  },
  {
   "cell_type": "markdown",
   "metadata": {},
   "source": [
    "## Range(start, stop, step)"
   ]
  },
  {
   "cell_type": "code",
   "execution_count": 19,
   "metadata": {},
   "outputs": [
    {
     "name": "stdout",
     "output_type": "stream",
     "text": [
      "1\n",
      "3\n",
      "5\n",
      "7\n",
      "9\n"
     ]
    }
   ],
   "source": [
    "range_of_100 = range(1,10) # for i=0;i<10;i++ in c\n",
    "\n",
    "sum=0\n",
    "for i in range(1,10,2):\n",
    "    print(i)\n",
    "    sum+=i"
   ]
  },
  {
   "cell_type": "markdown",
   "metadata": {},
   "source": [
    "## Inline for loop"
   ]
  },
  {
   "cell_type": "code",
   "execution_count": 27,
   "metadata": {},
   "outputs": [
    {
     "name": "stdout",
     "output_type": "stream",
     "text": [
      "[2, 4, 6, 88]\n"
     ]
    }
   ],
   "source": [
    "num = [1,2,3,4,5,6,88,19]\n",
    "list_of_even_num = [i for i in num if i%2==0]\n",
    "new_list = [i*100 for i in num]\n",
    "\n",
    "\n",
    "print(list_of_even_num)"
   ]
  },
  {
   "cell_type": "code",
   "execution_count": 25,
   "metadata": {},
   "outputs": [
    {
     "name": "stdout",
     "output_type": "stream",
     "text": [
      "[1, 200, 3, 400, 5, 600, 7, 800, 9]\n"
     ]
    }
   ],
   "source": [
    "numbers = [1,2,3,4,5,6,7,8,9]\n",
    "transformed_list = [(num *100 if num%2==0 else num) for num in numbers]\n",
    "print(transformed_list)"
   ]
  },
  {
   "cell_type": "markdown",
   "metadata": {},
   "source": [
    "Function"
   ]
  },
  {
   "cell_type": "markdown",
   "metadata": {},
   "source": [
    "## Parameters and Arguments"
   ]
  },
  {
   "cell_type": "code",
   "execution_count": null,
   "metadata": {},
   "outputs": [
    {
     "name": "stdout",
     "output_type": "stream",
     "text": [
      "6\n",
      "20\n",
      "69\n"
     ]
    }
   ],
   "source": [
    "# function to add two num\n",
    "def add(x,y):\n",
    "    sum = x+y\n",
    "    return sum\n",
    "\n",
    "# Name display function\n",
    "def display_info():\n",
    "    print(\"My namee is ......\")\n",
    "\n",
    "# Function for subtraction and product\n",
    "def sub(x,y):\n",
    "    diff = x-y\n",
    "    return diff\n",
    "def product(x,y):\n",
    "    mul = x*y\n",
    "    return mul\n",
    "product_num = product(x=2,y=3)\n",
    "sum_of_two_num = add(x=33,y=36)\n",
    "sub_of_two_num = sub(x=40,y=20)\n",
    "\n",
    "print(product_num)\n",
    "print(sub_of_two_num)\n",
    "print(sum_of_two_num)"
   ]
  },
  {
   "cell_type": "code",
   "execution_count": 8,
   "metadata": {},
   "outputs": [
    {
     "name": "stdout",
     "output_type": "stream",
     "text": [
      "Hello,Hari!\n",
      "8\n"
     ]
    }
   ],
   "source": [
    "def greet(name=\"World\"):\n",
    "    print(f\"Hello,{name}!\")\n",
    "\n",
    "greet(\"Hari\")\n",
    "\n",
    "def sum(a=0,b=0):\n",
    "    return a+b\n",
    "\n",
    "print(sum(a=5,b=3))\n"
   ]
  },
  {
   "cell_type": "markdown",
   "metadata": {},
   "source": [
    "## Arbitrary Arguments\n",
    "- function can accept variable number of arguments using \"args\" or**kwargs (keyword arguments)\n",
    "- *args is used to pass a variable number of positional arguments, while **kwargs is used to pass a variable number of keyword arguments"
   ]
  },
  {
   "cell_type": "code",
   "execution_count": null,
   "metadata": {},
   "outputs": [
    {
     "name": "stdout",
     "output_type": "stream",
     "text": [
      "4 5\n",
      "(3, 4, 5, 6)\n"
     ]
    }
   ],
   "source": [
    "# function using *args\n",
    "def add(a,b, *args):\n",
    "    print(a,b)\n",
    "    print(args)\n",
    "\n",
    "add(4,5,3,4,5,6)"
   ]
  },
  {
   "cell_type": "code",
   "execution_count": 14,
   "metadata": {},
   "outputs": [
    {
     "name": "stdout",
     "output_type": "stream",
     "text": [
      "NUmber is odd\n",
      "False\n"
     ]
    }
   ],
   "source": [
    "# Program to check whether the number is even or odd\n",
    "def is_even_number(number):\n",
    "    if number %2==0:\n",
    "        return'Number is even'\n",
    "    \n",
    "    return 'NUmber is odd'\n",
    "\n",
    "check_number = is_even_number(5)\n",
    "print(check_number)\n",
    "\n",
    "#using boolean DT\n",
    "\n",
    "def _even_number(num) ->bool:\n",
    "    if num %2==0:\n",
    "        return True\n",
    "    \n",
    "    return False\n",
    "\n",
    "check_num = _even_number(5)\n",
    "print(check_num)"
   ]
  },
  {
   "cell_type": "code",
   "execution_count": 18,
   "metadata": {},
   "outputs": [
    {
     "name": "stdout",
     "output_type": "stream",
     "text": [
      "0\n"
     ]
    }
   ],
   "source": [
    "# write a function that accepts three values (arguments) x,y,operation\n",
    "# where x => int, y=>int, operation ->string(+,_,*,/)\n",
    "# function should return the output based on the operation\n",
    "# i.e. if operation =+ add\n",
    "# operation =- substract and so on\n",
    "\n",
    "def calculator(x:int,y:int,op:str):\n",
    "\n",
    "    if op=='+':\n",
    "        return x+y\n",
    "    if op=='-':\n",
    "        return x-y\n",
    "    if op=='*':\n",
    "        return x*y\n",
    "    else:\n",
    "        \"Invalid operation\"\n",
    "    if op=='/':\n",
    "        try:\n",
    "            return x/y\n",
    "        except Exception as e:\n",
    "            print(e)\n",
    "            return None\n",
    "   \n",
    "\n",
    "result = calculator(2,0,\"*\")\n",
    "print(result)\n",
    "\n",
    "\n",
    "\n",
    "\n",
    "\n",
    "\n",
    "\n",
    "\n",
    "\n"
   ]
  },
  {
   "cell_type": "markdown",
   "metadata": {},
   "source": [
    "Lambda function \n",
    "\n",
    "- lambda functions, also known as anonymous functions are small single expression functions defined using lambda keyword\n",
    "- they are often used for short simple operations"
   ]
  },
  {
   "cell_type": "code",
   "execution_count": 19,
   "metadata": {},
   "outputs": [
    {
     "name": "stdout",
     "output_type": "stream",
     "text": [
      "16\n"
     ]
    }
   ],
   "source": [
    "square = lambda x:x**2\n",
    "print(square(4))"
   ]
  },
  {
   "cell_type": "code",
   "execution_count": 21,
   "metadata": {},
   "outputs": [
    {
     "name": "stdout",
     "output_type": "stream",
     "text": [
      "(5, 4)\n"
     ]
    }
   ],
   "source": [
    "# Write a function swap two numbers without using a temporary variable\n",
    "\n",
    "def swap(a,b):\n",
    "    a = a+b\n",
    "    b = a-b\n",
    "    a = a-b\n",
    "    return a,b\n",
    "\n",
    "\n",
    "\n",
    "print(swap(4,5))\n",
    " "
   ]
  },
  {
   "cell_type": "code",
   "execution_count": 1,
   "metadata": {},
   "outputs": [
    {
     "name": "stdout",
     "output_type": "stream",
     "text": [
      "racecar racecar\n",
      "input is palindrome\n"
     ]
    }
   ],
   "source": [
    "# Write a function Determine if a string is a palindrome (palondrome is if we reverse it has same value)\n",
    "\n",
    "def palin(name):\n",
    "    if name == name[::-1]:\n",
    "        return True\n",
    "    return False\n",
    "\n",
    "palin(\"racecar\")\n",
    "\n",
    "#Using Loop   \n",
    "\n",
    "input = \"racecar\"\n",
    "length = len(input)\n",
    "counter = length - 1\n",
    "reversed = ''\n",
    "while counter>=0:\n",
    "    reversed+= input[counter] \n",
    "    counter -= 1\n",
    "\n",
    "print(input,reversed)\n",
    "if reversed == input:\n",
    "    print('input is palindrome')\n",
    "else:\n",
    "    print('Input is not palindrome')\n",
    "\n"
   ]
  },
  {
   "cell_type": "code",
   "execution_count": 27,
   "metadata": {},
   "outputs": [
    {
     "name": "stdout",
     "output_type": "stream",
     "text": [
      "3\n"
     ]
    }
   ],
   "source": [
    "# Write a function to count vowels in givn string\n",
    "\n",
    "def count_vowels(sentence):\n",
    "    vowels=\"aeiou\"\n",
    "    total_vowels = 0\n",
    "    for char in sentence:\n",
    "        if char.lower() in vowels:\n",
    "            total_vowels+=1\n",
    "    return total_vowels\n",
    "\n",
    "total_vowels = count_vowels(\"HelloWorld\")\n",
    "print(total_vowels)"
   ]
  },
  {
   "cell_type": "code",
   "execution_count": 2,
   "metadata": {},
   "outputs": [
    {
     "name": "stdout",
     "output_type": "stream",
     "text": [
      "[3, 3, 4]\n"
     ]
    }
   ],
   "source": [
    "#write a function Find the common elements between two lists\n",
    "list1 = [1, 2, 3, 4]  \n",
    "list2 = [3,3, 4, 5, 6] \n",
    "\n",
    "common_list = []\n",
    "for item1 in list1:\n",
    "    for item2 in list2:\n",
    "        if item1==item2:\n",
    "            common_list.append(item1)\n",
    "\n",
    "print(common_list)"
   ]
  },
  {
   "cell_type": "code",
   "execution_count": 5,
   "metadata": {},
   "outputs": [],
   "source": [
    "# write a function to Check if a given number is a perfect square\n",
    "number = 16\n",
    "\n",
    "def check_perfect_square(num):\n",
    "    if(num==1):\n",
    "        return True\n",
    "    \n",
    "    perfect_square = False\n",
    "    for i in range(1,12/2):\n",
    "        if i*i ==num:\n",
    "            perfect_square = True\n",
    "            break\n",
    "    return perfect_square"
   ]
  },
  {
   "cell_type": "code",
   "execution_count": 9,
   "metadata": {},
   "outputs": [
    {
     "name": "stdout",
     "output_type": "stream",
     "text": [
      "3\n"
     ]
    }
   ],
   "source": [
    "# write a function Count the occurrences of a specific character in a string\n",
    "\n",
    "fruit = 'banana'\n",
    "char_name = 'a'\n",
    "count = 0\n",
    "\n",
    "for i in fruit:\n",
    "    if i == char_name:\n",
    "        count += 1\n",
    "\n",
    "print(count)\n",
    "\n",
    "\n",
    "\n"
   ]
  },
  {
   "cell_type": "code",
   "execution_count": 13,
   "metadata": {},
   "outputs": [
    {
     "name": "stdout",
     "output_type": "stream",
     "text": [
      "100 4\n"
     ]
    }
   ],
   "source": [
    "# Write a function to Find the second largest number in a list\n",
    "\n",
    "numbers = [3, 5, 1, 2,100,  4] \n",
    "\n",
    "max_number = numbers[0]\n",
    "second_max_number  = numbers[0]\n",
    "\n",
    "for n in numbers:\n",
    "    if n > max_number:\n",
    "        max_number = n\n",
    "    elif n>second_max_number and n != max_number:\n",
    "        second_max_number = n\n",
    "\n",
    "\n",
    "print(max_number,second_max_number)\n",
    "\n"
   ]
  },
  {
   "cell_type": "code",
   "execution_count": 15,
   "metadata": {},
   "outputs": [
    {
     "name": "stdout",
     "output_type": "stream",
     "text": [
      "[1, 2, 3, 4, 5]\n"
     ]
    }
   ],
   "source": [
    "# Write a function to remove duplicates from a list\n",
    "\n",
    "numbers = [1, 2, 2, 3, 4, 4, 5]\n",
    "unique_numbers = []\n",
    "for n in numbers:\n",
    "    if n  not in unique_numbers:\n",
    "        unique_numbers.append(n)\n",
    "\n",
    "print(unique_numbers)"
   ]
  },
  {
   "cell_type": "code",
   "execution_count": 16,
   "metadata": {},
   "outputs": [
    {
     "name": "stdout",
     "output_type": "stream",
     "text": [
      "5 x 1 = 5\n",
      "5 x 2 = 10\n",
      "5 x 3 = 15\n",
      "5 x 4 = 20\n",
      "5 x 5 = 25\n",
      "5 x 6 = 30\n",
      "5 x 7 = 35\n",
      "5 x 8 = 40\n",
      "5 x 9 = 45\n",
      "5 x 10 = 50\n"
     ]
    }
   ],
   "source": [
    "# Write a function that prints the multiplication table of given number\n",
    "\n",
    "def print_multiplication_table(num):\n",
    "    for i in range(1, 11):\n",
    "        print(num, 'x', i, '=', num * i)\n",
    "\n",
    "# Example usage:\n",
    "print_multiplication_table(5)\n",
    "\n",
    "\n",
    "\n"
   ]
  }
 ],
 "metadata": {
  "kernelspec": {
   "display_name": "Python 3",
   "language": "python",
   "name": "python3"
  },
  "language_info": {
   "codemirror_mode": {
    "name": "ipython",
    "version": 3
   },
   "file_extension": ".py",
   "mimetype": "text/x-python",
   "name": "python",
   "nbconvert_exporter": "python",
   "pygments_lexer": "ipython3",
   "version": "3.12.7"
  }
 },
 "nbformat": 4,
 "nbformat_minor": 2
}
