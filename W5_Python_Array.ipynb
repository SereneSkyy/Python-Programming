{
 "cells": [
  {
   "cell_type": "markdown",
   "metadata": {},
   "source": [
    "# Week-4 Python Programming"
   ]
  },
  {
   "cell_type": "markdown",
   "metadata": {},
   "source": [
    "## Saurav\n"
   ]
  },
  {
   "cell_type": "markdown",
   "metadata": {},
   "source": [
    "## Reshaping 1,6 array to 2x3 array"
   ]
  },
  {
   "cell_type": "code",
   "execution_count": 18,
   "metadata": {},
   "outputs": [
    {
     "name": "stdout",
     "output_type": "stream",
     "text": [
      "Original array:\n",
      " [1 2 3 4 5 6]\n",
      "------------------\n",
      "reshaped array:]n [[1 2 3]\n",
      " [4 5 6]]\n"
     ]
    }
   ],
   "source": [
    "## Reshaping 1,6 array to 2x3 array\n",
    "import numpy as np\n",
    "\n",
    "arr = np.array([1,2,3,4,5,6])\n",
    "newarr = arr.reshape(2,3)\n",
    "\n",
    "print(\"Original array:\\n\",arr)\n",
    "print(\"------------------\")\n",
    "print(\"reshaped array:]n\",newarr)"
   ]
  },
  {
   "cell_type": "markdown",
   "metadata": {},
   "source": [
    "## Flatten Array\n",
    "- it flattens array to one dimension and returns copy of collapsed array"
   ]
  },
  {
   "cell_type": "code",
   "execution_count": 19,
   "metadata": {},
   "outputs": [
    {
     "name": "stdout",
     "output_type": "stream",
     "text": [
      "[1 2 3 4 5 6]\n"
     ]
    }
   ],
   "source": [
    "# flatten array\n",
    "import numpy as np\n",
    "\n",
    "arr = np.array([[1,2,3],[4,5,6]])\n",
    "flat_arr = arr.flatten()\n",
    "\n",
    "print(flat_arr)"
   ]
  },
  {
   "cell_type": "markdown",
   "metadata": {},
   "source": [
    "## Numpy Array Indexing and Slicing"
   ]
  },
  {
   "cell_type": "markdown",
   "metadata": {},
   "source": [
    "### Basic Indexing\n",
    "- Indexing allows us to access the individual elements or subsets of data"
   ]
  },
  {
   "cell_type": "code",
   "execution_count": 20,
   "metadata": {},
   "outputs": [
    {
     "name": "stdout",
     "output_type": "stream",
     "text": [
      "(6,)\n",
      "1\n",
      "6\n",
      "4\n",
      "Print dimension of array\n",
      "[[1 2 3]\n",
      " [4 5 6]\n",
      " [7 8 9]]\n",
      "2nd row last element\n",
      "6\n",
      "3rd row 2nd element\n",
      "8\n",
      "print dimension of array\n",
      "2\n",
      "print shape of array\n",
      "(3, 3)\n",
      "print size of array\n",
      "9\n"
     ]
    }
   ],
   "source": [
    "#  1D Array Indexing\n",
    "arr = np.array([1,2,3,4,5,6])\n",
    "print(arr.shape)\n",
    "print(arr[0]) # first element\n",
    "print(arr[-1]) # last element l\n",
    "print(arr[3]) # fourth element\n",
    "\n",
    "# 2D array indexing\n",
    "\n",
    "n2d_arr = np.array(\n",
    "    [\n",
    "        [1,2,3],\n",
    "        [4,5,6],\n",
    "        [7,8,9]\n",
    "    ]\n",
    ")\n",
    "\n",
    "print(\"Print dimension of array\")\n",
    "\n",
    "print(n2d_arr)\n",
    "\n",
    "print(\"2nd row last element\")\n",
    "print(n2d_arr[1,-1])\n",
    "\n",
    "print('3rd row 2nd element')\n",
    "print(n2d_arr[-1,1])\n",
    "\n",
    "print(\"print dimension of array\")\n",
    "print(n2d_arr.ndim)\n",
    "\n",
    "\n",
    "print(\"print shape of array\")\n",
    "print(n2d_arr.shape)\n",
    "\n",
    "print(\"print size of array\")\n",
    "print(n2d_arr.size)\n"
   ]
  },
  {
   "cell_type": "markdown",
   "metadata": {},
   "source": [
    "## Slicing in Numpy\n",
    "- In Numpy we can access the portion of an array using the slice operator:\n"
   ]
  },
  {
   "cell_type": "markdown",
   "metadata": {},
   "source": [
    "## 1-D Array Slicing\n",
    "Syntax: ``array[start:stop:step]``\n",
    "\n",
    "- start: index of the first element to be included in slice\n",
    "- stop: index of the last element (exclusive)\n",
    "- step: step size between each element in the slice"
   ]
  },
  {
   "cell_type": "code",
   "execution_count": 21,
   "metadata": {},
   "outputs": [
    {
     "name": "stdout",
     "output_type": "stream",
     "text": [
      "[3 4 5 6]\n",
      "[1 3 5 7]\n",
      "[ 5  6  7  8  9 10]\n",
      "[1 2 3 4 5]\n",
      "[10]\n",
      "[100 100 100 100 100   6   7   8   9  10]\n"
     ]
    }
   ],
   "source": [
    "arr = np.array([1,2,3,4,5,6,7,8,9,10])\n",
    "\n",
    "#slice array from index 2-6 (6 exclusive)\n",
    "print(arr[2:6]) #[3,4,5,6]\n",
    "\n",
    "# slice array from 0 to 8 with a step size of 2\n",
    "print(arr[0:8:2]) #[1,3,5,7]\n",
    "\n",
    "# slice array from index 4 to th elast element\n",
    "print(arr[4:])\n",
    "\n",
    "# slice array from start to 5th index (5th index excluded)\n",
    "print(arr[:5])\n",
    "\n",
    "#negetive index\n",
    "print(arr[-1::2]) # slice every second element from end to start\n",
    "\n",
    "# we can also modify the array with slicing\n",
    "arr[:5] = 100\n",
    "print(arr)"
   ]
  },
  {
   "cell_type": "markdown",
   "metadata": {},
   "source": [
    "## 2D Array Slicing\n",
    "\n",
    "Syntax: ``array[row_start:row_stop:row_step,col_start:col_stop:col_step]``"
   ]
  },
  {
   "cell_type": "code",
   "execution_count": 22,
   "metadata": {},
   "outputs": [
    {
     "name": "stdout",
     "output_type": "stream",
     "text": [
      "2\n",
      "[[1 2 3]]\n",
      "[[1 2]\n",
      " [4 5]]\n"
     ]
    }
   ],
   "source": [
    "array_2d = np.array([\n",
    "    [1,2,3],\n",
    "    [4,5,6],\n",
    "    [7,8,9]\n",
    "])\n",
    "\n",
    "print(array_2d.ndim)\n",
    "\n",
    "#slice first row\n",
    "print(array_2d[0:1])\n",
    "\n",
    "# slice array from first two rows \n",
    "\n",
    "print(array_2d[0:2,0:2])"
   ]
  },
  {
   "cell_type": "markdown",
   "metadata": {},
   "source": [
    "## Boolean Array Indexing\n",
    "- Boolean array indexing allows us to select elements from an array based on conditions. this technique is helpful when we need to filter elements bbased on certain condition"
   ]
  },
  {
   "cell_type": "code",
   "execution_count": 23,
   "metadata": {},
   "outputs": [
    {
     "name": "stdout",
     "output_type": "stream",
     "text": [
      "[20 25 30]\n",
      "[ 5 10 15 99 99 99]\n"
     ]
    }
   ],
   "source": [
    "# creating an array\n",
    "arr = np.array([5,10,15,20,25,30])\n",
    "\n",
    "# select elements greater than 15\n",
    "print(arr[arr>15])\n",
    "\n",
    "#select elements \n",
    "\n",
    "\n",
    "# Modify elements that satisfy a condition\n",
    "arr[arr>15] = 99\n",
    "print(arr)\n",
    "\n",
    "# Boolean indexing on a 2-dimensional array\n",
    "array2d = np.array([[1,2,3],[4,5,6]])\n",
    "\n",
    "# Extract elements greater than 4\n"
   ]
  },
  {
   "cell_type": "markdown",
   "metadata": {},
   "source": [
    "## Numpy Operations\n",
    "- Arithmetic Array Operations\n",
    "- Array functions\n",
    "- Comparison/Logical Operations\n",
    "- Maath Functions\n",
    "- Constant \n",
    "- Statical Function"
   ]
  },
  {
   "cell_type": "markdown",
   "metadata": {},
   "source": [
    "### Numpy Arithmetic Operations\n",
    "- add()\n",
    "- substract()\n",
    "- multiply()\n",
    "- divide()\n",
    "- power()\n",
    "- mod()"
   ]
  },
  {
   "cell_type": "code",
   "execution_count": 24,
   "metadata": {},
   "outputs": [
    {
     "name": "stdout",
     "output_type": "stream",
     "text": [
      "Addition : [5 7 9]\n",
      "Subtraction: [-3 -3 -3]\n",
      "Multiplication: [ 4 10 18]\n",
      "Division: [0.25 0.4  0.5 ]\n",
      "Power: [  1  32 729]\n",
      "Remainder: [1 2 3]\n"
     ]
    }
   ],
   "source": [
    "# add\n",
    "first = np.array([1,2,3])\n",
    "second = np.array([4,5,6])\n",
    "\n",
    "first_plus_second = np.add(first,second)\n",
    "print(\"Addition :\", first_plus_second)\n",
    "\n",
    "# subtract\n",
    "first = np.array([1,2,3])\n",
    "second = np.array([4,5,6])\n",
    "\n",
    "first_subtract_second = np.subtract(first,second)\n",
    "print(\"Subtraction:\", first_subtract_second)\n",
    "\n",
    "# multiply\n",
    "first = np.array([1,2,3])\n",
    "second = np.array([4,5,6])\n",
    "\n",
    "first_mul_second = np.multiply(first,second)\n",
    "print(\"Multiplication:\", first_mul_second)\n",
    "\n",
    "# divide\n",
    "first = np.array([1,2,3])\n",
    "second = np.array([4,5,6])\n",
    "\n",
    "first_div_second = np.divide(first,second)\n",
    "print(\"Division:\", first_div_second)\n",
    "\n",
    "# power\n",
    "first = np.array([1,2,3])\n",
    "second = np.array([4,5,6])\n",
    "\n",
    "first_pow_second = np.power(first,second)\n",
    "print(\"Power:\", first_pow_second)\n",
    "\n",
    "# mod\n",
    "first = np.array([1,2,3])\n",
    "second = np.array([4,5,6])\n",
    "\n",
    "first_mod_second = np.mod(first,second)\n",
    "print(\"Remainder:\", first_mod_second)"
   ]
  },
  {
   "cell_type": "markdown",
   "metadata": {},
   "source": [
    "## Numpy Broadcasting\n",
    "- it allows to perform arithmetic operaions on arrays with different shapes"
   ]
  },
  {
   "cell_type": "code",
   "execution_count": 25,
   "metadata": {},
   "outputs": [
    {
     "ename": "ValueError",
     "evalue": "operands could not be broadcast together with shapes (3,) (2,) ",
     "output_type": "error",
     "traceback": [
      "\u001b[1;31m---------------------------------------------------------------------------\u001b[0m",
      "\u001b[1;31mValueError\u001b[0m                                Traceback (most recent call last)",
      "Cell \u001b[1;32mIn[25], line 4\u001b[0m\n\u001b[0;32m      1\u001b[0m f \u001b[38;5;241m=\u001b[39m np\u001b[38;5;241m.\u001b[39marray([\u001b[38;5;241m1\u001b[39m,\u001b[38;5;241m2\u001b[39m,\u001b[38;5;241m3\u001b[39m])\n\u001b[0;32m      2\u001b[0m s \u001b[38;5;241m=\u001b[39m np\u001b[38;5;241m.\u001b[39marray([\u001b[38;5;241m6\u001b[39m,\u001b[38;5;241m7\u001b[39m])\n\u001b[1;32m----> 4\u001b[0m m \u001b[38;5;241m=\u001b[39m \u001b[43mf\u001b[49m\u001b[38;5;241;43m*\u001b[39;49m\u001b[43ms\u001b[49m\n\u001b[0;32m      5\u001b[0m \u001b[38;5;28mprint\u001b[39m(m)\n",
      "\u001b[1;31mValueError\u001b[0m: operands could not be broadcast together with shapes (3,) (2,) "
     ]
    }
   ],
   "source": [
    "f = np.array([1,2,3])\n",
    "s = np.array([6,7])\n",
    "\n",
    "m = f*s\n",
    "print(m)"
   ]
  },
  {
   "cell_type": "markdown",
   "metadata": {},
   "source": [
    "## Numpy Array Functions\n",
    "- Numpy has various built-in function for various purposes\n",
    "- Array Creation Function: np.array(), np.zeros(),"
   ]
  },
  {
   "cell_type": "code",
   "execution_count": null,
   "metadata": {},
   "outputs": [
    {
     "name": "stdout",
     "output_type": "stream",
     "text": [
      "12.0\n",
      "3.5\n",
      "20.149441679609886\n",
      "406.0\n"
     ]
    }
   ],
   "source": [
    "data = np.array([1,3,4,57,4,3])\n",
    "\n",
    "print(np.mean(data))\n",
    "print(np.median(data))\n",
    "print(np.std(data))\n",
    "print(np.var(data))"
   ]
  },
  {
   "cell_type": "markdown",
   "metadata": {},
   "source": [
    "Numpy array function\n",
    "- array, zeros, ones,empty\n",
    "- reshape, transpose"
   ]
  },
  {
   "cell_type": "markdown",
   "metadata": {},
   "source": [
    "## Array Manipulation Functions"
   ]
  },
  {
   "cell_type": "code",
   "execution_count": null,
   "metadata": {},
   "outputs": [],
   "source": [
    "numbers = np.array([1,2,3,4,5,6,7,8,9])\n",
    "\n",
    "# reshape the 1D array into a 2D array\n",
    "reshaped_array =np.reshape(numbers, (3,3)) #3*3=9\n"
   ]
  },
  {
   "cell_type": "markdown",
   "metadata": {},
   "source": [
    "## NumPy Matrix Operations\n",
    "- matrix multiply ``np.matmul()``\n",
    "- dot product ``np.dot()``\n",
    "- cross-product ``np.cross()``\n",
    "- Transpose ``np.transpose``\n",
    "- inverse ``np.linalg.inverse()``\n",
    "- determinant ``linalg.det()`` linalg => Linear algebra\n",
    "- Norm ``np.linalg.norm``\n",
    "- Trace ``np.linalg.trace()``\n",
    "\n"
   ]
  },
  {
   "cell_type": "code",
   "execution_count": null,
   "metadata": {},
   "outputs": [
    {
     "name": "stdout",
     "output_type": "stream",
     "text": [
      "[[ 30  19  50]\n",
      " [ 72  46 116]\n",
      " [114  73 182]]\n",
      "dot product: \n",
      " [[ 30  19  50]\n",
      " [ 72  46 116]\n",
      " [114  73 182]]\n",
      "cross product: \n",
      " [[ -4   8  -4]\n",
      " [ 46 -20 -14]\n",
      " [ 29  -4 -19]]\n",
      "[[1 4 7]\n",
      " [2 5 8]\n",
      " [3 6 9]]\n",
      "Inverse of matrix: \n",
      "[[-1.16666667 -0.91666667  2.        ]\n",
      " [ 2.33333333  1.33333333 -3.        ]\n",
      " [-0.16666667  0.08333333 -0.        ]]\n",
      "11.999999999999984\n",
      "18.57417562100671\n",
      "15\n"
     ]
    }
   ],
   "source": [
    "mat1 =  np.array([\n",
    "    [1,2,3],\n",
    "    [4,5,6],\n",
    "    [7,8,9]\n",
    "])\n",
    "\n",
    "mat2 = np.array([\n",
    "    [3,2,1],\n",
    "    [6,4,14],\n",
    "    [5,3,7]\n",
    "])\n",
    "\n",
    "print(np.matmul(mat1,mat2))\n",
    "print(\"dot product: \\n\", np.dot(mat1,mat2))\n",
    "print(\"cross product: \\n\",np.cross( mat1,mat2))\n",
    "print(np.transpose(mat1))\n",
    "\n",
    "# singular matrix i.e whose determinant is 0 cannot have an inverse. So, we cannot use mat1 to find inverse as mat 1 is singular martix.\n",
    "print(\"Inverse of matrix: \")\n",
    "print(np.linalg.inv(mat2)) \n",
    "\n",
    "print(\"determinant of matrix: \")\n",
    "print(np.linalg.det(mat2))\n",
    "\n",
    "print(\"\")\n",
    "print(np.linalg.norm(mat2))\n",
    "print(np.linalg.trace(mat1))"
   ]
  },
  {
   "cell_type": "code",
   "execution_count": null,
   "metadata": {},
   "outputs": [
    {
     "name": "stdout",
     "output_type": "stream",
     "text": [
      "^^^^^^^^^mathematical^^^^^^^^^^^^\n",
      "[1.         1.41421356 1.73205081 2.        ]\n",
      "---------------\n",
      "mean : 64.85714285714286\n",
      "-----------------\n",
      "median:  67.0\n",
      "--------------------\n",
      "min marks : 64.85714285714286\n"
     ]
    }
   ],
   "source": [
    "# import numpy as np\n",
    "\n",
    "numbers = [1,2,3,4]\n",
    "print(\"^^^^^^^^^mathematical^^^^^^^^^^^^\")\n",
    "sqrt_num = np.sqrt(numbers)\n",
    "print(sqrt_num)\n",
    "square_num = np.square(sqrt_num)\n",
    "print(\"---------------\")\n",
    "\n",
    "std_marks = np.array([30,50,67,10,100,99,98])\n",
    "mean_marks = np.mean(std_marks)\n",
    "print(\"mean :\",mean_marks)\n",
    "\n",
    "print(\"-----------------\")\n",
    "\n",
    "median_marks = np.median(std_marks)\n",
    "print(\"median: \", median_marks)\n",
    "\n",
    "print(\"--------------------\")\n",
    "\n",
    "min_marks = np.mean(std_marks)\n",
    "print(\"min marks :\",min_marks)"
   ]
  },
  {
   "cell_type": "markdown",
   "metadata": {},
   "source": []
  },
  {
   "cell_type": "code",
   "execution_count": null,
   "metadata": {},
   "outputs": [
    {
     "name": "stdout",
     "output_type": "stream",
     "text": [
      "26\n"
     ]
    }
   ],
   "source": [
    "vec1 = [1,2,3]\n",
    "vec2 = [3,4,5]\n",
    "\n",
    "dot_pro = np.dot(vec1,vec2)\n",
    "print(dot_pro)"
   ]
  },
  {
   "cell_type": "markdown",
   "metadata": {},
   "source": [
    "### Misc Mathematical Function\n",
    "- trigonometric: sin(),cos(),tan(), cot(),sec(), cosec(), tangent()\n",
    "- hyperbolic: sineh(), cosh()\n",
    "- logarithmic\n"
   ]
  },
  {
   "cell_type": "code",
   "execution_count": null,
   "metadata": {},
   "outputs": [
    {
     "data": {
      "image/png": "[encoded data removed]",
      "text/plain": [
       "<Figure size 1000x500 with 1 Axes>"
      ]
     },
     "metadata": {},
     "output_type": "display_data"
    }
   ],
   "source": [
    "import matplotlib.pyplot as plt\n",
    "\n",
    "# Generate x values\n",
    "x = np.linspace(-2*np.pi, 2*np.pi, 100)\n",
    "\n",
    "# calculate y values\n",
    "y_sin = np.sin(x)\n",
    "\n",
    "#create theplot\n",
    "plt.figure(figsize=(10,5))\n",
    "\n",
    "# plot the sine curve and its opposite phase\n",
    "plt.plot(x,y_sin, label=\"Sine curve\", color = 'blue')\n",
    "\n",
    "plt.grid()\n",
    "\n",
    "\n",
    "\n"
   ]
  },
  {
   "cell_type": "markdown",
   "metadata": {},
   "source": [
    "Find out the similarity between the folloeing two sentences using cosine similarity\n",
    "- Sky is blue\n",
    "- Ocean is blue\n",
    "\n",
    "Use TDF-IDF Algorith to vectorize the sentences\n",
    "\n",
    "``TF(t)= total number of occurences of term t in sentences (doc)/total length of words in sentence (doc)``\n",
    "\n",
    "``IDF(t) = log(total sentence(doc)length/no of documents contains term t)``\n",
    "\n",
    "``tf-idf score = tf*idf ``"
   ]
  },
  {
   "cell_type": "code",
   "execution_count": 42,
   "metadata": {},
   "outputs": [
    {
     "name": "stdout",
     "output_type": "stream",
     "text": [
      "0.5345224838248487\n"
     ]
    }
   ],
   "source": [
    "sen1 = \"Sky is blue because of oceans reflection\".lower()\n",
    "sen2 = \"Ocean is blue beacause of skys reflection\".lower()\n",
    "sen3 = \"Hello I am under the blue ocean, pls help me \".lower()\n",
    "\n",
    "\n",
    "def tf_idf_vectorizer(word,sentence):\n",
    "    tf = sentence.count(word) / len(sentence.split())\n",
    "    total_doc_size = 2\n",
    "    idf_score = np.log1p(total_doc_size/1 if word in sen1 else 0 + 1 if word in sen2 else 0)\n",
    "    \n",
    "    return tf*idf_score\n",
    "\n",
    "vec1 = [tf_idf_vectorizer(word,sen1) for word in sen1.split()]\n",
    "\n",
    "# vec1 = np.array(vec1)\n",
    "\n",
    "vec2 = [tf_idf_vectorizer(word,sen2) for word in sen2.split()]\n",
    "# vec2 = np.array(vec2)\n",
    "\n",
    "vec3 = [tf_idf_vectorizer(word,sen3) for word in sen2.split()]\n",
    "\n",
    "similarity = np.dot(vec1,vec3) / (np.linalg.norm(vec1)*np.linalg.norm(vec3))\n",
    "print(similarity)"
   ]
  },
  {
   "cell_type": "markdown",
   "metadata": {},
   "source": [
    "## Simple Linear Regression \n",
    "X: 10, 12, 13, 12, 16, 15 (price)\n",
    "Y: 40, 38, 43, 45, 37, 43 (sales)\n",
    "\n",
    "predict sales while price is 20.\n"
   ]
  },
  {
   "cell_type": "code",
   "execution_count": null,
   "metadata": {},
   "outputs": [],
   "source": []
  }
 ],
 "metadata": {
  "kernelspec": {
   "display_name": "Python 3",
   "language": "python",
   "name": "python3"
  },
  "language_info": {
   "codemirror_mode": {
    "name": "ipython",
    "version": 3
   },
   "file_extension": ".py",
   "mimetype": "text/x-python",
   "name": "python",
   "nbconvert_exporter": "python",
   "pygments_lexer": "ipython3",
   "version": "3.12.7"
  }
 },
 "nbformat": 4,
 "nbformat_minor": 2
}
