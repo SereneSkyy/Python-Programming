{
 "cells": [
  {
   "cell_type": "markdown",
   "metadata": {},
   "source": [
    "# <center>  Week 1 - Python Programming </center>\n",
    "### <center> Saurav Raj Khanal <p><center><center>Sunday<p><center><center>Oct 10, 2024<center>"
   ]
  },
  {
   "cell_type": "markdown",
   "metadata": {},
   "source": [
    "Here is the summary of what we did in this week;\n",
    "- Print a String Variable\n",
    "- Integer Division and Remainder Operations\n",
    "- String Slicing and Indexing\n",
    "- Multi-line String and length calculation\n",
    "- String Concatenation\n",
    "- Conditional Statements with if, elif, and else\n",
    "- Loop with while Statement\n",
    "- Summing Numbers from 1 to 100\n",
    "- Sum of n Even and Odd Numbers\n",
    "- Reference by value vs Reference by location\n",
    "- Finding Sum, Max, and Min values from List\n",
    "- Joining List Elements into a String"
   ]
  },
  {
   "cell_type": "code",
   "execution_count": 12,
   "metadata": {},
   "outputs": [
    {
     "name": "stdout",
     "output_type": "stream",
     "text": [
      "Hello World\n",
      "2\n",
      "2\n",
      "Ashik Kumar Jha\n",
      "116\n",
      "Ashik_Jha Ashik Jha\n"
     ]
    }
   ],
   "source": [
    "hello = \"Hello World\"\n",
    "print(hello)\n",
    "\n",
    "a = 12\n",
    "b = 5\n",
    "\n",
    "# division (ceiling)\n",
    "print(a//b)\n",
    "# remainder\n",
    "print(a%b)\n",
    "\n",
    "#indexing\n",
    "name = \"Ashik Kumar Jha\"\n",
    "first_name = name[:5]\n",
    "mid_name = name[6:11]\n",
    "last_name = name[12:]\n",
    "\n",
    "print(first_name,mid_name,last_name)\n",
    "\n",
    "paragraph=\"\"\" sddjfksddjf dfhsflkjdf shdfjshf asjdhfjsbdf sdjfjsbdfbjsd fasjhdfajsgfas fajsfhjashdf asdfhaslkdfjhalksdjf asjhdflj\"\"\"\n",
    "# length of paragrah\n",
    "print(len(paragraph))\n",
    "\n",
    "#concatination\n",
    "full_name1 = first_name + \"_\"+ last_name \n",
    "full_name = f\"{first_name} {last_name}\"\n",
    "print (full_name1,full_name)"
   ]
  },
  {
   "cell_type": "markdown",
   "metadata": {},
   "source": [
    "# Control flow statements\n",
    "## Conditional Statements\n",
    "- if\n",
    "- elif\n",
    "- else"
   ]
  },
  {
   "cell_type": "code",
   "execution_count": 6,
   "metadata": {},
   "outputs": [
    {
     "name": "stdout",
     "output_type": "stream",
     "text": [
      "b is greater\n"
     ]
    }
   ],
   "source": [
    "# Python program to compare two numbers, a and b, and print which one is greater or if they are equal.\n",
    "a = 5\n",
    "b = 10\n",
    "\n",
    "if a>b:\n",
    "    print (\"a is greater\")\n",
    "elif b>a:\n",
    "    print(\"b is greater\")\n",
    "else:\n",
    "    print(\"a and b are equal\")"
   ]
  },
  {
   "cell_type": "code",
   "execution_count": 3,
   "metadata": {},
   "outputs": [
    {
     "name": "stdout",
     "output_type": "stream",
     "text": [
      "holiday\n"
     ]
    }
   ],
   "source": [
    "#Python program that prompts the user to input a day and prints if its clg or holiday\n",
    "day = input(\"enter day\")\n",
    "if day == 5:\n",
    "    print(\"clg day\")\n",
    "else:\n",
    "    print(\"holiday\")"
   ]
  },
  {
   "cell_type": "code",
   "execution_count": 5,
   "metadata": {},
   "outputs": [
    {
     "name": "stdout",
     "output_type": "stream",
     "text": [
      "DSA\n"
     ]
    }
   ],
   "source": [
    "# Python program that takes a time input from the user and displays the corresponding class.\n",
    "time = int(input(\"Enter time\"))\n",
    "\n",
    "if (time in range (10,11)):\n",
    "    print(\"math class\")\n",
    "elif time>=12 and time <13:\n",
    "    print(\"DSA\")\n",
    "else:\n",
    "    print(\"Holiday\") "
   ]
  },
  {
   "cell_type": "markdown",
   "metadata": {},
   "source": [
    "# Loops(iteration)\n",
    "- While\n",
    "- for"
   ]
  },
  {
   "cell_type": "code",
   "execution_count": 22,
   "metadata": {},
   "outputs": [
    {
     "name": "stdout",
     "output_type": "stream",
     "text": [
      "Hello 1 -_- Hello 2 -_- Hello 3 -_- Hello 4 -_- Hello 5 -_- Hello 6 -_- Hello 7 -_- Hello 8 -_- Hello 9 -_- Hello 10 -_- "
     ]
    }
   ],
   "source": [
    "# print hello till 10 hello\n",
    "\n",
    "from time import sleep\n",
    "c = 1\n",
    "while c<=10:\n",
    "    print(f\"Hello {c}\", end = \" -_- \")\n",
    "    c += 1\n",
    "    sleep(1)\n"
   ]
  },
  {
   "cell_type": "code",
   "execution_count": 3,
   "metadata": {},
   "outputs": [
    {
     "name": "stdout",
     "output_type": "stream",
     "text": [
      "1\n",
      "3\n",
      "6\n",
      "10\n",
      "15\n",
      "21\n",
      "28\n",
      "36\n",
      "45\n",
      "55\n",
      "66\n",
      "78\n",
      "91\n",
      "105\n",
      "120\n",
      "136\n",
      "153\n",
      "171\n",
      "190\n",
      "210\n",
      "231\n",
      "253\n",
      "276\n",
      "300\n",
      "325\n",
      "351\n",
      "378\n",
      "406\n",
      "435\n",
      "465\n",
      "496\n",
      "528\n",
      "561\n",
      "595\n",
      "630\n",
      "666\n",
      "703\n",
      "741\n",
      "780\n",
      "820\n",
      "861\n",
      "903\n",
      "946\n",
      "990\n",
      "1035\n",
      "1081\n",
      "1128\n",
      "1176\n",
      "1225\n",
      "1275\n",
      "1326\n",
      "1378\n",
      "1431\n",
      "1485\n",
      "1540\n",
      "1596\n",
      "1653\n",
      "1711\n",
      "1770\n",
      "1830\n",
      "1891\n",
      "1953\n",
      "2016\n",
      "2080\n",
      "2145\n",
      "2211\n",
      "2278\n",
      "2346\n",
      "2415\n",
      "2485\n",
      "2556\n",
      "2628\n",
      "2701\n",
      "2775\n",
      "2850\n",
      "2926\n",
      "3003\n",
      "3081\n",
      "3160\n",
      "3240\n",
      "3321\n",
      "3403\n",
      "3486\n",
      "3570\n",
      "3655\n",
      "3741\n",
      "3828\n",
      "3916\n",
      "4005\n",
      "4095\n",
      "4186\n",
      "4278\n",
      "4371\n",
      "4465\n",
      "4560\n",
      "4656\n",
      "4753\n",
      "4851\n",
      "4950\n",
      "5050\n"
     ]
    }
   ],
   "source": [
    "# Sum of integers from 1-100.\n",
    "\n",
    "i = 1\n",
    "n = 100\n",
    "s = 0\n",
    "while i<=n:\n",
    "    s += i\n",
    "    i+= 1\n",
    "    print(s)\n"
   ]
  },
  {
   "cell_type": "markdown",
   "metadata": {},
   "source": [
    "# Sum of First even numbers and Odd numbers\n",
    "\n"
   ]
  },
  {
   "cell_type": "markdown",
   "metadata": {},
   "source": []
  },
  {
   "cell_type": "code",
   "execution_count": 10,
   "metadata": {},
   "outputs": [
    {
     "name": "stdout",
     "output_type": "stream",
     "text": [
      "2550\n",
      "2500\n"
     ]
    }
   ],
   "source": [
    "# se =Sum_of_even_numbers\n",
    "# so = Sum_of_Odd_num\n",
    "i=1\n",
    "se= 0\n",
    "so=0\n",
    "n = 100\n",
    "while i<=100:\n",
    "     if i%2 == 0:\n",
    "          se += i\n",
    "          i +=1\n",
    "         # print(se)\n",
    "     else:\n",
    "          so += i\n",
    "          i +=1\n",
    "         # print(so)\n",
    "\n",
    "print(se)\n",
    "print(so)"
   ]
  },
  {
   "cell_type": "markdown",
   "metadata": {},
   "source": [
    "# Composite Data Types\n",
    "- Lists\n",
    "- Tuple\n",
    "- Set\n",
    "- Dictionary"
   ]
  },
  {
   "cell_type": "code",
   "execution_count": 5,
   "metadata": {},
   "outputs": [
    {
     "name": "stdout",
     "output_type": "stream",
     "text": [
      "1\n",
      "6\n",
      "8\n"
     ]
    }
   ],
   "source": [
    "numbers = [1,2,3,4,4,8]\n",
    "students = ['Ram','Hari']\n",
    "\n",
    "# access elements from the list\n",
    "\n",
    "first_number = numbers[0]\n",
    "print(first_number)\n",
    "\n",
    "#count total numbers of items\n",
    "total_items = len(numbers)\n",
    "print(total_items)\n",
    "\n",
    "#last element\n",
    "last_element = numbers[total_items-1]\n",
    "print(last_element)"
   ]
  },
  {
   "cell_type": "markdown",
   "metadata": {},
   "source": [
    "# List methods\n",
    "- append ( appends new items at the end )\n",
    "- pop (removes last element)\n",
    "- count (returns total numbers of appeareances of an item)\n",
    "- insert (insert item at the particular index)\n",
    "- extend \n",
    "- copy\n",
    "- clear\n",
    "\n"
   ]
  },
  {
   "cell_type": "code",
   "execution_count": 21,
   "metadata": {},
   "outputs": [
    {
     "name": "stdout",
     "output_type": "stream",
     "text": [
      "[1, 2, 3, 4, 5, 6]\n",
      "[1, 2, 3, 4, 5, 6, 8]\n",
      "[1, 2, 3, 4, 5, 6]\n",
      "[1, 2, 3, 4, 6]\n",
      "2\n",
      "[1, 2, 3, 4]\n",
      "[]\n",
      "[1, 2, 3]\n"
     ]
    }
   ],
   "source": [
    "num = [1,2,3,4,5,6]\n",
    "print(num)\n",
    "\n",
    "# append item\n",
    "num.append(8)\n",
    "print(num)\n",
    "\n",
    "#remove last\n",
    "num.pop()\n",
    "print(num)\n",
    "\n",
    "#remove\n",
    "num.remove(5)\n",
    "print(num)\n",
    "\n",
    "#insert\n",
    "num.insert(4,3)\n",
    "print(num.count(3))\n",
    "\n",
    "\n",
    "#extend\n",
    "num_1 = [1,2]\n",
    "num_2 = [3,4]\n",
    "num_1.extend(num_2)\n",
    "print(num_1)\n",
    "\n",
    "#clear\n",
    "num_1.clear()\n",
    "print(num_1)\n",
    "\n",
    "#copy\n",
    "\n",
    "a = [1,2,3]\n",
    "b = a.copy()\n",
    "print(b)\n"
   ]
  },
  {
   "cell_type": "code",
   "execution_count": 24,
   "metadata": {},
   "outputs": [
    {
     "name": "stdout",
     "output_type": "stream",
     "text": [
      "6 5\n",
      "['Ram', 'Hari', 'Gopal'] ['Ram', 'Hari']\n",
      "Ram exits in a\n"
     ]
    }
   ],
   "source": [
    "# Reference by value\n",
    "a = 5\n",
    "b = a\n",
    "a = a+1\n",
    "print(a,b)\n",
    "\n",
    "#Reference by Location\n",
    "a = ['Ram','Hari']\n",
    "b = a.copy()\n",
    "a.append('Gopal')\n",
    "print(a,b)\n",
    "if 'Ram' in a:\n",
    "    print('Ram exits in a')\n"
   ]
  },
  {
   "cell_type": "markdown",
   "metadata": {},
   "source": [
    "\n",
    "In the code:\n",
    "\n",
    "- Reference by Value: a = 5 and b = a make b a copy of a. Changing a to 6 doesn’t affect b, so the output is 6 5.\n",
    "- Reference by Location: a.copy() creates a separate list for b. Adding 'Gopal' to a doesn't affect b, so the output is ['Ram', 'Hari', 'Gopal'] ['Ram', 'Hari']"
   ]
  },
  {
   "cell_type": "markdown",
   "metadata": {},
   "source": [
    "# Loop through list"
   ]
  },
  {
   "cell_type": "code",
   "execution_count": 25,
   "metadata": {},
   "outputs": [
    {
     "name": "stdout",
     "output_type": "stream",
     "text": [
      "21\n"
     ]
    }
   ],
   "source": [
    "# find the sum of all items of given list\n",
    "num = [1,2,3,4,5,6]\n",
    "\n",
    "total_items = len(num)\n",
    "index=0\n",
    "sum=0\n",
    "\n",
    "while index<total_items:\n",
    "    sum += num[index]\n",
    "    index +=1\n",
    "print(sum)"
   ]
  },
  {
   "cell_type": "code",
   "execution_count": 3,
   "metadata": {},
   "outputs": [
    {
     "name": "stdout",
     "output_type": "stream",
     "text": [
      "1009\n"
     ]
    }
   ],
   "source": [
    "# find the max value from the given list\n",
    "num = [-10,3,9,-50,-10,1009]\n",
    "\n",
    "index = 0\n",
    "total_items = len(num)\n",
    "max_val = num[0]\n",
    "\n",
    "while index<total_items:\n",
    "\n",
    "    item = num[index]\n",
    "    if item>max_val:\n",
    "        max_val = item\n",
    "\n",
    "    index += 1\n",
    "\n",
    "print(max_val)\n"
   ]
  },
  {
   "cell_type": "markdown",
   "metadata": {},
   "source": [
    "Here,\n",
    "- created a list of numbers\n",
    "- initialized variable \n",
    "- loop through each element \n",
    "- checked if current item is  greater than max_val\n",
    "- incremented index\n",
    "- printed the max value"
   ]
  },
  {
   "cell_type": "code",
   "execution_count": 4,
   "metadata": {},
   "outputs": [
    {
     "name": "stdout",
     "output_type": "stream",
     "text": [
      "-50\n"
     ]
    }
   ],
   "source": [
    "# find the min value from the given list\n",
    "num = [-10,3,9,-50,-10,1009]\n",
    "\n",
    "index = 0\n",
    "total_items = len(num)\n",
    "min_val = num[0]\n",
    "\n",
    "while index<total_items:\n",
    "\n",
    "    item = num[index]\n",
    "    if item<min_val:\n",
    "        min_val = item\n",
    "\n",
    "    index += 1\n",
    "\n",
    "print(min_val)"
   ]
  },
  {
   "cell_type": "markdown",
   "metadata": {},
   "source": [
    "- Created a list of elements and join them into a single string"
   ]
  },
  {
   "cell_type": "code",
   "execution_count": 11,
   "metadata": {},
   "outputs": [
    {
     "name": "stdout",
     "output_type": "stream",
     "text": [
      "Ram-Hari-Gopal\n",
      "1-2-3\n"
     ]
    }
   ],
   "source": [
    "students = ['Ram','Hari','Gopal']\n",
    "all_students = '-'.join(students)\n",
    "print(all_students)\n",
    "\n",
    "#joining numbers\n",
    "num = [1,2,3]\n",
    "all_num = '-'.join([str(i) for i in num])\n",
    "print(all_num)"
   ]
  }
 ],
 "metadata": {
  "kernelspec": {
   "display_name": "Python 3",
   "language": "python",
   "name": "python3"
  },
  "language_info": {
   "codemirror_mode": {
    "name": "ipython",
    "version": 3
   },
   "file_extension": ".py",
   "mimetype": "text/x-python",
   "name": "python",
   "nbconvert_exporter": "python",
   "pygments_lexer": "ipython3",
   "version": "3.12.7"
  }
 },
 "nbformat": 4,
 "nbformat_minor": 2
}
