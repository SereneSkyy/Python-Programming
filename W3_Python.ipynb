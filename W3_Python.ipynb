{
 "cells": [
  {
   "cell_type": "markdown",
   "metadata": {},
   "source": [
    "# <center> Week 3 Python Programming - Data Analysis with Pandas</center>\n",
    "### <center> Saurav Raj Khanal </center>"
   ]
  },
  {
   "cell_type": "markdown",
   "metadata": {},
   "source": [
    "Python Module\n",
    "- it is a single python file containing definition, function, classes, and variables that are logically grouped together"
   ]
  },
  {
   "cell_type": "markdown",
   "metadata": {},
   "source": [
    "Python package\n",
    "- It is the collection of python modules grouped together within an directory allowing them to be managed as a unit\n",
    "- each package must contain an __init__.py file, which can be empty\n"
   ]
  },
  {
   "cell_type": "markdown",
   "metadata": {},
   "source": [
    "Python Library\n",
    "- It is a collection of modules and packages bundled together to offer a set of related functionalities\n"
   ]
  },
  {
   "cell_type": "markdown",
   "metadata": {},
   "source": [
    "\n",
    "# Import and use Pandas"
   ]
  },
  {
   "cell_type": "code",
   "execution_count": 6,
   "metadata": {},
   "outputs": [
    {
     "data": {
      "text/html": [
       "<div>\n",
       "<style scoped>\n",
       "    .dataframe tbody tr th:only-of-type {\n",
       "        vertical-align: middle;\n",
       "    }\n",
       "\n",
       "    .dataframe tbody tr th {\n",
       "        vertical-align: top;\n",
       "    }\n",
       "\n",
       "    .dataframe thead th {\n",
       "        text-align: right;\n",
       "    }\n",
       "</style>\n",
       "<table border=\"1\" class=\"dataframe\">\n",
       "  <thead>\n",
       "    <tr style=\"text-align: right;\">\n",
       "      <th></th>\n",
       "      <th>Name</th>\n",
       "      <th>Age</th>\n",
       "      <th>Adress</th>\n",
       "    </tr>\n",
       "  </thead>\n",
       "  <tbody>\n",
       "    <tr>\n",
       "      <th>0</th>\n",
       "      <td>Ram</td>\n",
       "      <td>20</td>\n",
       "      <td>Kathmandu</td>\n",
       "    </tr>\n",
       "    <tr>\n",
       "      <th>1</th>\n",
       "      <td>Hari</td>\n",
       "      <td>23</td>\n",
       "      <td>Lalitpur</td>\n",
       "    </tr>\n",
       "  </tbody>\n",
       "</table>\n",
       "</div>"
      ],
      "text/plain": [
       "   Name  Age     Adress\n",
       "0   Ram   20  Kathmandu\n",
       "1  Hari   23   Lalitpur"
      ]
     },
     "execution_count": 6,
     "metadata": {},
     "output_type": "execute_result"
    }
   ],
   "source": [
    "import pandas as pd\n",
    "\n",
    "# create new series\n",
    "number_series = pd.Series([1,2,3,4])\n",
    "\n",
    "# create new Data Frame\n",
    "user_data = pd.DataFrame({\n",
    "    \"Name\":[\"Ram\",\"Hari\"],\n",
    "    \"Age\":[20,23],\n",
    "    \"Adress\":[\"Kathmandu\",\"Lalitpur\"]\n",
    "\n",
    "})\n",
    "user_data = pd.DataFrame(user_data)\n",
    "user_data"
   ]
  },
  {
   "cell_type": "code",
   "execution_count": 13,
   "metadata": {},
   "outputs": [
    {
     "data": {
      "text/html": [
       "<div>\n",
       "<style scoped>\n",
       "    .dataframe tbody tr th:only-of-type {\n",
       "        vertical-align: middle;\n",
       "    }\n",
       "\n",
       "    .dataframe tbody tr th {\n",
       "        vertical-align: top;\n",
       "    }\n",
       "\n",
       "    .dataframe thead th {\n",
       "        text-align: right;\n",
       "    }\n",
       "</style>\n",
       "<table border=\"1\" class=\"dataframe\">\n",
       "  <thead>\n",
       "    <tr style=\"text-align: right;\">\n",
       "      <th></th>\n",
       "      <th>id</th>\n",
       "      <th>name</th>\n",
       "      <th>class</th>\n",
       "      <th>mark</th>\n",
       "      <th>gender</th>\n",
       "    </tr>\n",
       "  </thead>\n",
       "  <tbody>\n",
       "    <tr>\n",
       "      <th>0</th>\n",
       "      <td>1</td>\n",
       "      <td>John Deo</td>\n",
       "      <td>Four</td>\n",
       "      <td>75</td>\n",
       "      <td>female</td>\n",
       "    </tr>\n",
       "    <tr>\n",
       "      <th>1</th>\n",
       "      <td>2</td>\n",
       "      <td>Max Ruin</td>\n",
       "      <td>Three</td>\n",
       "      <td>85</td>\n",
       "      <td>male</td>\n",
       "    </tr>\n",
       "    <tr>\n",
       "      <th>2</th>\n",
       "      <td>3</td>\n",
       "      <td>Arnold</td>\n",
       "      <td>Three</td>\n",
       "      <td>55</td>\n",
       "      <td>male</td>\n",
       "    </tr>\n",
       "    <tr>\n",
       "      <th>3</th>\n",
       "      <td>4</td>\n",
       "      <td>Krish Star</td>\n",
       "      <td>Four</td>\n",
       "      <td>60</td>\n",
       "      <td>female</td>\n",
       "    </tr>\n",
       "    <tr>\n",
       "      <th>4</th>\n",
       "      <td>5</td>\n",
       "      <td>John Mike</td>\n",
       "      <td>Four</td>\n",
       "      <td>60</td>\n",
       "      <td>female</td>\n",
       "    </tr>\n",
       "  </tbody>\n",
       "</table>\n",
       "</div>"
      ],
      "text/plain": [
       "   id        name  class  mark  gender\n",
       "0   1    John Deo   Four    75  female\n",
       "1   2    Max Ruin  Three    85    male\n",
       "2   3      Arnold  Three    55    male\n",
       "3   4  Krish Star   Four    60  female\n",
       "4   5   John Mike   Four    60  female"
      ]
     },
     "execution_count": 13,
     "metadata": {},
     "output_type": "execute_result"
    }
   ],
   "source": [
    "import pandas as pd\n",
    "\n",
    "# read data from csv\n",
    "student_csv_data = pd.read_csv(\"data/student.csv\")\n",
    "student_csv_data.head() # head displays the tops rows\n",
    "\n",
    "\n"
   ]
  },
  {
   "cell_type": "markdown",
   "metadata": {},
   "source": [
    "# read data from xlsx (Excel) file\n",
    "\n"
   ]
  },
  {
   "cell_type": "code",
   "execution_count": null,
   "metadata": {},
   "outputs": [
    {
     "data": {
      "text/html": [
       "<div>\n",
       "<style scoped>\n",
       "    .dataframe tbody tr th:only-of-type {\n",
       "        vertical-align: middle;\n",
       "    }\n",
       "\n",
       "    .dataframe tbody tr th {\n",
       "        vertical-align: top;\n",
       "    }\n",
       "\n",
       "    .dataframe thead th {\n",
       "        text-align: right;\n",
       "    }\n",
       "</style>\n",
       "<table border=\"1\" class=\"dataframe\">\n",
       "  <thead>\n",
       "    <tr style=\"text-align: right;\">\n",
       "      <th></th>\n",
       "      <th>id</th>\n",
       "      <th>name</th>\n",
       "      <th>class</th>\n",
       "      <th>mark</th>\n",
       "      <th>gender</th>\n",
       "    </tr>\n",
       "  </thead>\n",
       "  <tbody>\n",
       "    <tr>\n",
       "      <th>0</th>\n",
       "      <td>1</td>\n",
       "      <td>John Deo</td>\n",
       "      <td>Four</td>\n",
       "      <td>75</td>\n",
       "      <td>female</td>\n",
       "    </tr>\n",
       "    <tr>\n",
       "      <th>1</th>\n",
       "      <td>2</td>\n",
       "      <td>Max Ruin</td>\n",
       "      <td>Three</td>\n",
       "      <td>85</td>\n",
       "      <td>male</td>\n",
       "    </tr>\n",
       "    <tr>\n",
       "      <th>2</th>\n",
       "      <td>3</td>\n",
       "      <td>Arnold</td>\n",
       "      <td>Three</td>\n",
       "      <td>55</td>\n",
       "      <td>male</td>\n",
       "    </tr>\n",
       "    <tr>\n",
       "      <th>3</th>\n",
       "      <td>4</td>\n",
       "      <td>Krish Star</td>\n",
       "      <td>Four</td>\n",
       "      <td>60</td>\n",
       "      <td>female</td>\n",
       "    </tr>\n",
       "    <tr>\n",
       "      <th>4</th>\n",
       "      <td>5</td>\n",
       "      <td>John Mike</td>\n",
       "      <td>Four</td>\n",
       "      <td>60</td>\n",
       "      <td>female</td>\n",
       "    </tr>\n",
       "  </tbody>\n",
       "</table>\n",
       "</div>"
      ],
      "text/plain": [
       "   id        name  class  mark  gender\n",
       "0   1    John Deo   Four    75  female\n",
       "1   2    Max Ruin  Three    85    male\n",
       "2   3      Arnold  Three    55    male\n",
       "3   4  Krish Star   Four    60  female\n",
       "4   5   John Mike   Four    60  female"
      ]
     },
     "execution_count": 18,
     "metadata": {},
     "output_type": "execute_result"
    }
   ],
   "source": [
    "# read data from xlsx\n",
    "student_excel_data = pd.read_excel(\"data/student.xlsx\")\n",
    "student_excel_data.head()"
   ]
  },
  {
   "cell_type": "markdown",
   "metadata": {},
   "source": [
    "# Reading data from json file"
   ]
  },
  {
   "cell_type": "code",
   "execution_count": null,
   "metadata": {},
   "outputs": [
    {
     "data": {
      "text/html": [
       "<div>\n",
       "<style scoped>\n",
       "    .dataframe tbody tr th:only-of-type {\n",
       "        vertical-align: middle;\n",
       "    }\n",
       "\n",
       "    .dataframe tbody tr th {\n",
       "        vertical-align: top;\n",
       "    }\n",
       "\n",
       "    .dataframe thead th {\n",
       "        text-align: right;\n",
       "    }\n",
       "</style>\n",
       "<table border=\"1\" class=\"dataframe\">\n",
       "  <thead>\n",
       "    <tr style=\"text-align: right;\">\n",
       "      <th></th>\n",
       "      <th>id</th>\n",
       "      <th>name</th>\n",
       "      <th>class</th>\n",
       "      <th>mark</th>\n",
       "      <th>gender</th>\n",
       "    </tr>\n",
       "  </thead>\n",
       "  <tbody>\n",
       "    <tr>\n",
       "      <th>0</th>\n",
       "      <td>1</td>\n",
       "      <td>John Deo</td>\n",
       "      <td>Four</td>\n",
       "      <td>75</td>\n",
       "      <td>female</td>\n",
       "    </tr>\n",
       "    <tr>\n",
       "      <th>1</th>\n",
       "      <td>2</td>\n",
       "      <td>Max Ruin</td>\n",
       "      <td>Three</td>\n",
       "      <td>85</td>\n",
       "      <td>male</td>\n",
       "    </tr>\n",
       "    <tr>\n",
       "      <th>2</th>\n",
       "      <td>3</td>\n",
       "      <td>Arnold</td>\n",
       "      <td>Three</td>\n",
       "      <td>55</td>\n",
       "      <td>male</td>\n",
       "    </tr>\n",
       "    <tr>\n",
       "      <th>3</th>\n",
       "      <td>4</td>\n",
       "      <td>Krish Star</td>\n",
       "      <td>Four</td>\n",
       "      <td>60</td>\n",
       "      <td>female</td>\n",
       "    </tr>\n",
       "    <tr>\n",
       "      <th>4</th>\n",
       "      <td>5</td>\n",
       "      <td>John Mike</td>\n",
       "      <td>Four</td>\n",
       "      <td>60</td>\n",
       "      <td>female</td>\n",
       "    </tr>\n",
       "  </tbody>\n",
       "</table>\n",
       "</div>"
      ],
      "text/plain": [
       "   id        name  class  mark  gender\n",
       "0   1    John Deo   Four    75  female\n",
       "1   2    Max Ruin  Three    85    male\n",
       "2   3      Arnold  Three    55    male\n",
       "3   4  Krish Star   Four    60  female\n",
       "4   5   John Mike   Four    60  female"
      ]
     },
     "execution_count": 15,
     "metadata": {},
     "output_type": "execute_result"
    }
   ],
   "source": [
    "# read data from json \n",
    "student_json_data = pd.read_json(\"data/student.json\")\n",
    "student_json_data.head()"
   ]
  },
  {
   "cell_type": "code",
   "execution_count": 4,
   "metadata": {},
   "outputs": [],
   "source": [
    "import pandas as pd\n",
    "user_data = pd.DataFrame({\n",
    "    \"Name\":[\"Ram\",\"Hari\"],\n",
    "    \"Age\":[20,23],\n",
    "    \"Adress\":[\"Kathmandu\",\"Lalitpur\"]\n",
    "})\n",
    "\n",
    "user_data.to_csv('data/user_data.csv')\n",
    "user_data.to_excel('data/user_data.xlsx')\n",
    "user_data.to_json('data/user_data.json')"
   ]
  },
  {
   "cell_type": "code",
   "execution_count": 1,
   "metadata": {},
   "outputs": [
    {
     "name": "stdout",
     "output_type": "stream",
     "text": [
      "    id         name  class  mark  gender\n",
      "30  31  Marry Toeey   Four    88    male\n",
      "31  32    Binn Rott  Seven    90  female\n",
      "32  33    Kenn Rein    Six    96  female\n",
      "33  34     Gain Toe  Seven    69    male\n",
      "34  35   Rows Noump    Six    88  female\n",
      "<class 'pandas.core.frame.DataFrame'>\n",
      "RangeIndex: 35 entries, 0 to 34\n",
      "Data columns (total 5 columns):\n",
      " #   Column  Non-Null Count  Dtype \n",
      "---  ------  --------------  ----- \n",
      " 0   id      35 non-null     int64 \n",
      " 1   name    35 non-null     object\n",
      " 2   class   35 non-null     object\n",
      " 3   mark    35 non-null     int64 \n",
      " 4   gender  35 non-null     object\n",
      "dtypes: int64(2), object(3)\n",
      "memory usage: 1.5+ KB\n",
      "None\n"
     ]
    },
    {
     "data": {
      "text/html": [
       "<div>\n",
       "<style scoped>\n",
       "    .dataframe tbody tr th:only-of-type {\n",
       "        vertical-align: middle;\n",
       "    }\n",
       "\n",
       "    .dataframe tbody tr th {\n",
       "        vertical-align: top;\n",
       "    }\n",
       "\n",
       "    .dataframe thead th {\n",
       "        text-align: right;\n",
       "    }\n",
       "</style>\n",
       "<table border=\"1\" class=\"dataframe\">\n",
       "  <thead>\n",
       "    <tr style=\"text-align: right;\">\n",
       "      <th></th>\n",
       "      <th>id</th>\n",
       "      <th>mark</th>\n",
       "    </tr>\n",
       "  </thead>\n",
       "  <tbody>\n",
       "    <tr>\n",
       "      <th>count</th>\n",
       "      <td>35.000000</td>\n",
       "      <td>35.000000</td>\n",
       "    </tr>\n",
       "    <tr>\n",
       "      <th>mean</th>\n",
       "      <td>18.000000</td>\n",
       "      <td>74.657143</td>\n",
       "    </tr>\n",
       "    <tr>\n",
       "      <th>std</th>\n",
       "      <td>10.246951</td>\n",
       "      <td>16.401117</td>\n",
       "    </tr>\n",
       "    <tr>\n",
       "      <th>min</th>\n",
       "      <td>1.000000</td>\n",
       "      <td>18.000000</td>\n",
       "    </tr>\n",
       "    <tr>\n",
       "      <th>25%</th>\n",
       "      <td>9.500000</td>\n",
       "      <td>62.500000</td>\n",
       "    </tr>\n",
       "    <tr>\n",
       "      <th>50%</th>\n",
       "      <td>18.000000</td>\n",
       "      <td>79.000000</td>\n",
       "    </tr>\n",
       "    <tr>\n",
       "      <th>75%</th>\n",
       "      <td>26.500000</td>\n",
       "      <td>88.000000</td>\n",
       "    </tr>\n",
       "    <tr>\n",
       "      <th>max</th>\n",
       "      <td>35.000000</td>\n",
       "      <td>96.000000</td>\n",
       "    </tr>\n",
       "  </tbody>\n",
       "</table>\n",
       "</div>"
      ],
      "text/plain": [
       "              id       mark\n",
       "count  35.000000  35.000000\n",
       "mean   18.000000  74.657143\n",
       "std    10.246951  16.401117\n",
       "min     1.000000  18.000000\n",
       "25%     9.500000  62.500000\n",
       "50%    18.000000  79.000000\n",
       "75%    26.500000  88.000000\n",
       "max    35.000000  96.000000"
      ]
     },
     "execution_count": 1,
     "metadata": {},
     "output_type": "execute_result"
    }
   ],
   "source": [
    "import pandas as pd\n",
    "\n",
    "students = pd.read_csv('data/student.csv')\n",
    "students.shape\n",
    "students.head()\n",
    "print(students.tail())\n",
    "print(students.info())\n",
    "students.describe()"
   ]
  },
  {
   "cell_type": "markdown",
   "metadata": {},
   "source": [
    "## Data selection and indexing in pandas\n",
    "\n",
    "- basic indexing\n",
    "- label based indexing(.loc[])\n",
    "- integer label based indexing(.iloc[])\n",
    "- single values access (.at[], .iat[])"
   ]
  },
  {
   "cell_type": "code",
   "execution_count": 12,
   "metadata": {},
   "outputs": [
    {
     "name": "stdout",
     "output_type": "stream",
     "text": [
      "0        John Deo\n",
      "1        Max Ruin\n",
      "2          Arnold\n",
      "3      Krish Star\n",
      "4       John Mike\n",
      "5       Alex John\n",
      "6     My John Rob\n",
      "7          Asruid\n",
      "8         Tes Qry\n",
      "9        Big John\n",
      "10         Ronald\n",
      "11          Recky\n",
      "12            Kty\n",
      "13           Bigy\n",
      "14       Tade Row\n",
      "15          Gimmy\n",
      "16          Tumyu\n",
      "17          Honny\n",
      "18          Tinny\n",
      "19         Jackly\n",
      "20     Babby John\n",
      "21         Reggid\n",
      "22          Herod\n",
      "23      Tiddy Now\n",
      "24       Giff Tow\n",
      "25         Crelea\n",
      "26       Big Nose\n",
      "27      Rojj Base\n",
      "28    Tess Played\n",
      "29      Reppy Red\n",
      "30    Marry Toeey\n",
      "31      Binn Rott\n",
      "32      Kenn Rein\n",
      "33       Gain Toe\n",
      "34     Rows Noump\n",
      "Name: name, dtype: object\n",
      "    id         name  mark\n",
      "0    1     John Deo  75.0\n",
      "1    2     Max Ruin  85.0\n",
      "2    3       Arnold  55.0\n",
      "3    4   Krish Star  60.0\n",
      "4    5    John Mike  60.0\n",
      "5    6    Alex John  55.0\n",
      "6    7  My John Rob  78.0\n",
      "7    8       Asruid  85.0\n",
      "8    9      Tes Qry  78.0\n",
      "9   10     Big John  55.0\n",
      "10  11       Ronald  89.0\n",
      "11  12        Recky   NaN\n",
      "12  13          Kty  88.0\n",
      "13  14         Bigy  88.0\n",
      "14  15     Tade Row  88.0\n",
      "15  16        Gimmy  88.0\n",
      "16  17        Tumyu  54.0\n",
      "17  18        Honny  75.0\n",
      "18  19        Tinny  18.0\n",
      "19  20       Jackly  65.0\n",
      "20  21   Babby John  69.0\n",
      "21  22       Reggid  55.0\n",
      "22  23        Herod  79.0\n",
      "23  24    Tiddy Now  78.0\n",
      "24  25     Giff Tow  88.0\n",
      "25  26       Crelea  79.0\n",
      "26  27     Big Nose  81.0\n",
      "27  28    Rojj Base  86.0\n",
      "28  29  Tess Played  55.0\n",
      "29  30    Reppy Red  79.0\n",
      "30  31  Marry Toeey  88.0\n",
      "31  32    Binn Rott  90.0\n",
      "32  33    Kenn Rein  96.0\n",
      "33  34     Gain Toe  69.0\n",
      "34  35   Rows Noump  88.0\n",
      "   id         name  class  mark  gender\n",
      "0   1     John Deo   Four  75.0  female\n",
      "1   2     Max Ruin  Three  85.0    male\n",
      "2   3       Arnold  Three  55.0    male\n",
      "3   4   Krish Star   Four  60.0  female\n",
      "4   5    John Mike   Four  60.0  female\n",
      "5   6    Alex John   Four  55.0    male\n",
      "6   7  My John Rob  Fifth  78.0    male\n",
      "7   8       Asruid   Five  85.0    male\n",
      "8   9      Tes Qry    Six  78.0     NaN\n",
      "9  10     Big John   Four  55.0  female\n",
      "    id         name  class  mark  gender\n",
      "30  31  Marry Toeey   Four  88.0    male\n",
      "31  32    Binn Rott  Seven  90.0  female\n",
      "32  33    Kenn Rein    Six  96.0  female\n",
      "33  34     Gain Toe  Seven  69.0    male\n",
      "34  35   Rows Noump    Six  88.0  female\n"
     ]
    }
   ],
   "source": [
    "# basic indexing\n",
    "import pandas as pd\n",
    "students = pd.read_csv('data/student.csv')\n",
    "print(students['name'])\n",
    "new_std_data = students[['id','name','mark']]\n",
    "print(new_std_data) #multiple columns in dataframe\n",
    "\n",
    "# Slicing rows\n",
    "first_10_rows = students[:10].copy()\n",
    "print(first_10_rows) # only first rows (dataframe)\n",
    "last_five_rows = students[30:].copy()\n",
    "print(last_five_rows) # rows from index 30 to last index (dataframe)\n",
    "\n"
   ]
  },
  {
   "cell_type": "markdown",
   "metadata": {},
   "source": [
    "# label based index (.loc[])\n",
    "- .loc is used for selecting rows and columns by label\n",
    "- we can use single labels, list of labels, or slices of labels"
   ]
  },
  {
   "cell_type": "code",
   "execution_count": 23,
   "metadata": {},
   "outputs": [
    {
     "name": "stdout",
     "output_type": "stream",
     "text": [
      "id               2\n",
      "name      Max Ruin\n",
      "class        Three\n",
      "mark            85\n",
      "gender        male\n",
      "Name: 1, dtype: object\n",
      "   id      name  class  mark  gender\n",
      "0   1  John Deo   Four    75  female\n",
      "1   2  Max Ruin  Three    85    male\n",
      "2   3    Arnold  Three    55    male\n",
      "       name  class  mark\n",
      "0  John Deo   Four    75\n",
      "1  Max Ruin  Three    85\n",
      "2    Arnold  Three    55\n"
     ]
    },
    {
     "data": {
      "text/html": [
       "<div>\n",
       "<style scoped>\n",
       "    .dataframe tbody tr th:only-of-type {\n",
       "        vertical-align: middle;\n",
       "    }\n",
       "\n",
       "    .dataframe tbody tr th {\n",
       "        vertical-align: top;\n",
       "    }\n",
       "\n",
       "    .dataframe thead th {\n",
       "        text-align: right;\n",
       "    }\n",
       "</style>\n",
       "<table border=\"1\" class=\"dataframe\">\n",
       "  <thead>\n",
       "    <tr style=\"text-align: right;\">\n",
       "      <th></th>\n",
       "      <th>name</th>\n",
       "      <th>gender</th>\n",
       "    </tr>\n",
       "  </thead>\n",
       "  <tbody>\n",
       "    <tr>\n",
       "      <th>5</th>\n",
       "      <td>Alex John</td>\n",
       "      <td>male</td>\n",
       "    </tr>\n",
       "    <tr>\n",
       "      <th>20</th>\n",
       "      <td>Babby John</td>\n",
       "      <td>female</td>\n",
       "    </tr>\n",
       "  </tbody>\n",
       "</table>\n",
       "</div>"
      ],
      "text/plain": [
       "          name  gender\n",
       "5    Alex John    male\n",
       "20  Babby John  female"
      ]
     },
     "execution_count": 23,
     "metadata": {},
     "output_type": "execute_result"
    }
   ],
   "source": [
    "# selecting rows based on label\n",
    "\n",
    "students = pd.read_csv('data/student.csv')\n",
    "first_row = students.loc[1]\n",
    "first_two_rows = students.loc[0:2]\n",
    "print(first_row)\n",
    "print(first_two_rows)\n",
    "\n",
    "# selecting specific rows to column\n",
    "first_two_stds_with_name_to_marks = students.loc[0:2,'name':'mark']\n",
    "print(first_two_stds_with_name_to_marks)   # rows 0 to 2, column name to mark\n",
    "\n",
    "# select only particular rows and columns\n",
    "first_and_second_row_with_name_and_gender = students.loc[[5,20],['name','gender']]\n",
    "              #rows 5 and 20, colummn name and gender\n",
    "            \n",
    "first_and_second_row_with_name_and_gender\n"
   ]
  },
  {
   "cell_type": "markdown",
   "metadata": {},
   "source": [
    "Integer location based indexing\n",
    "- .iloc[] is used for selecting rows and columns by integer index positions\n",
    "- similar to .loc[], we can use integer, list of integers, or slices"
   ]
  },
  {
   "cell_type": "code",
   "execution_count": 24,
   "metadata": {},
   "outputs": [
    {
     "name": "stdout",
     "output_type": "stream",
     "text": [
      "id               2\n",
      "name      Max Ruin\n",
      "class        Three\n",
      "mark            85\n",
      "gender        male\n",
      "Name: 1, dtype: object\n",
      "   id      name  class  mark  gender\n",
      "0   1  John Deo   Four    75  female\n",
      "1   2  Max Ruin  Three    85    male\n",
      "2   3    Arnold  Three    55    male\n",
      "   id      name\n",
      "0   1  John Deo\n",
      "1   2  Max Ruin\n",
      "   id  class\n",
      "0   1   Four\n",
      "2   3  Three\n"
     ]
    }
   ],
   "source": [
    "# selecting rows based on index position\n",
    "print(students.iloc[1])                    # second row (index 1)\n",
    "print(students.iloc[0:3])                  # rows at index positions 0 to 2\n",
    "\n",
    "# selecting specific rows and columns\n",
    "print(students.iloc[0:2, 0:2])              # rows 0 to 1 column 0 to 1\n",
    "print(students.iloc[[0,2],[0,2]])           # rows 0 to 2 column 0 to 2"
   ]
  },
  {
   "cell_type": "markdown",
   "metadata": {},
   "source": [
    "# Single Value Access (.at[], and .iat[])\n",
    "- .at[] is used for accessing  a single scalar value by label\n",
    "- .iat[] is for accessing for index position"
   ]
  },
  {
   "cell_type": "code",
   "execution_count": 2,
   "metadata": {},
   "outputs": [
    {
     "name": "stdout",
     "output_type": "stream",
     "text": [
      "Max Ruin\n",
      "Alex John\n"
     ]
    }
   ],
   "source": [
    "#Using .at[] to access single value by label\n",
    "print(students.at[1,'name'])             #Value in row 1 and column name\n",
    "\n",
    "# Using .iat[] to access single value by position\n",
    "print(students.iat[5,1])\n"
   ]
  },
  {
   "cell_type": "markdown",
   "metadata": {},
   "source": [
    "## Filtering\n",
    "- logical opertors(>,<,==,!=)\n",
    "- multiple logical operators (& (AND) and | (OR))\n",
    "- Str ancessor, Isin, contains, between, startWith\n",
    "- Tilde(~)\n",
    "- Query\n",
    "- Nlargest and nsmallest\n",
    "-Loc and iloc\n"
   ]
  },
  {
   "cell_type": "markdown",
   "metadata": {},
   "source": [
    "## Logical Operators"
   ]
  },
  {
   "cell_type": "code",
   "execution_count": 4,
   "metadata": {},
   "outputs": [
    {
     "name": "stdout",
     "output_type": "stream",
     "text": [
      "    id   name class  mark gender\n",
      "18  19  Tinny  Nine    18   male\n"
     ]
    },
    {
     "data": {
      "text/html": [
       "<div>\n",
       "<style scoped>\n",
       "    .dataframe tbody tr th:only-of-type {\n",
       "        vertical-align: middle;\n",
       "    }\n",
       "\n",
       "    .dataframe tbody tr th {\n",
       "        vertical-align: top;\n",
       "    }\n",
       "\n",
       "    .dataframe thead th {\n",
       "        text-align: right;\n",
       "    }\n",
       "</style>\n",
       "<table border=\"1\" class=\"dataframe\">\n",
       "  <thead>\n",
       "    <tr style=\"text-align: right;\">\n",
       "      <th></th>\n",
       "      <th>id</th>\n",
       "      <th>name</th>\n",
       "      <th>class</th>\n",
       "      <th>mark</th>\n",
       "      <th>gender</th>\n",
       "    </tr>\n",
       "  </thead>\n",
       "  <tbody>\n",
       "    <tr>\n",
       "      <th>1</th>\n",
       "      <td>2</td>\n",
       "      <td>Max Ruin</td>\n",
       "      <td>Three</td>\n",
       "      <td>85</td>\n",
       "      <td>male</td>\n",
       "    </tr>\n",
       "    <tr>\n",
       "      <th>2</th>\n",
       "      <td>3</td>\n",
       "      <td>Arnold</td>\n",
       "      <td>Three</td>\n",
       "      <td>55</td>\n",
       "      <td>male</td>\n",
       "    </tr>\n",
       "    <tr>\n",
       "      <th>5</th>\n",
       "      <td>6</td>\n",
       "      <td>Alex John</td>\n",
       "      <td>Four</td>\n",
       "      <td>55</td>\n",
       "      <td>male</td>\n",
       "    </tr>\n",
       "    <tr>\n",
       "      <th>6</th>\n",
       "      <td>7</td>\n",
       "      <td>My John Rob</td>\n",
       "      <td>Fifth</td>\n",
       "      <td>78</td>\n",
       "      <td>male</td>\n",
       "    </tr>\n",
       "    <tr>\n",
       "      <th>7</th>\n",
       "      <td>8</td>\n",
       "      <td>Asruid</td>\n",
       "      <td>Five</td>\n",
       "      <td>85</td>\n",
       "      <td>male</td>\n",
       "    </tr>\n",
       "  </tbody>\n",
       "</table>\n",
       "</div>"
      ],
      "text/plain": [
       "   id         name  class  mark gender\n",
       "1   2     Max Ruin  Three    85   male\n",
       "2   3       Arnold  Three    55   male\n",
       "5   6    Alex John   Four    55   male\n",
       "6   7  My John Rob  Fifth    78   male\n",
       "7   8       Asruid   Five    85   male"
      ]
     },
     "execution_count": 4,
     "metadata": {},
     "output_type": "execute_result"
    }
   ],
   "source": [
    "# students with marks less than 40\n",
    "\n",
    "stds_marks_less_than_40 = students[students.mark<40]\n",
    "print(stds_marks_less_than_40)\n",
    "\n",
    "boys = students[students.gender == 'male']\n",
    "boys.head()"
   ]
  },
  {
   "cell_type": "markdown",
   "metadata": {},
   "source": [
    "## Multiple Logical Operators"
   ]
  },
  {
   "cell_type": "code",
   "execution_count": 15,
   "metadata": {},
   "outputs": [
    {
     "data": {
      "text/html": [
       "<div>\n",
       "<style scoped>\n",
       "    .dataframe tbody tr th:only-of-type {\n",
       "        vertical-align: middle;\n",
       "    }\n",
       "\n",
       "    .dataframe tbody tr th {\n",
       "        vertical-align: top;\n",
       "    }\n",
       "\n",
       "    .dataframe thead th {\n",
       "        text-align: right;\n",
       "    }\n",
       "</style>\n",
       "<table border=\"1\" class=\"dataframe\">\n",
       "  <thead>\n",
       "    <tr style=\"text-align: right;\">\n",
       "      <th></th>\n",
       "      <th>id</th>\n",
       "      <th>name</th>\n",
       "      <th>class</th>\n",
       "      <th>mark</th>\n",
       "      <th>gender</th>\n",
       "    </tr>\n",
       "  </thead>\n",
       "  <tbody>\n",
       "  </tbody>\n",
       "</table>\n",
       "</div>"
      ],
      "text/plain": [
       "Empty DataFrame\n",
       "Columns: [id, name, class, mark, gender]\n",
       "Index: []"
      ]
     },
     "execution_count": 15,
     "metadata": {},
     "output_type": "execute_result"
    }
   ],
   "source": [
    "# students of class 'four' and have marks above 80\n",
    "class_four_high_marks = students[ (students['class']=='Four') & (students['mark']>80)]\n",
    "class_four_high_marks.head()\n",
    "\n",
    "# students of class 'four' and 'five' and have marks above 70\n",
    "stds_of_fout_five = students[(students['class']=='four') | \n",
    "                             (students['class']=='five') &\n",
    "                             (students['mark'] > 70)\n",
    "                             ]\n",
    "stds_of_fout_five.head()"
   ]
  },
  {
   "cell_type": "markdown",
   "metadata": {},
   "source": [
    "## str, lsin, contains, between, startswith"
   ]
  },
  {
   "cell_type": "code",
   "execution_count": 12,
   "metadata": {},
   "outputs": [
    {
     "name": "stdout",
     "output_type": "stream",
     "text": [
      "    id   name class  mark gender\n",
      "15  16  Gimmy  Four    88   male\n"
     ]
    },
    {
     "data": {
      "text/html": [
       "<div>\n",
       "<style scoped>\n",
       "    .dataframe tbody tr th:only-of-type {\n",
       "        vertical-align: middle;\n",
       "    }\n",
       "\n",
       "    .dataframe tbody tr th {\n",
       "        vertical-align: top;\n",
       "    }\n",
       "\n",
       "    .dataframe thead th {\n",
       "        text-align: right;\n",
       "    }\n",
       "</style>\n",
       "<table border=\"1\" class=\"dataframe\">\n",
       "  <thead>\n",
       "    <tr style=\"text-align: right;\">\n",
       "      <th></th>\n",
       "      <th>id</th>\n",
       "      <th>name</th>\n",
       "      <th>class</th>\n",
       "      <th>mark</th>\n",
       "      <th>gender</th>\n",
       "    </tr>\n",
       "  </thead>\n",
       "  <tbody>\n",
       "    <tr>\n",
       "      <th>18</th>\n",
       "      <td>19</td>\n",
       "      <td>Tinny</td>\n",
       "      <td>Nine</td>\n",
       "      <td>18</td>\n",
       "      <td>male</td>\n",
       "    </tr>\n",
       "    <tr>\n",
       "      <th>19</th>\n",
       "      <td>20</td>\n",
       "      <td>Jackly</td>\n",
       "      <td>Nine</td>\n",
       "      <td>65</td>\n",
       "      <td>female</td>\n",
       "    </tr>\n",
       "  </tbody>\n",
       "</table>\n",
       "</div>"
      ],
      "text/plain": [
       "    id    name class  mark  gender\n",
       "18  19   Tinny  Nine    18    male\n",
       "19  20  Jackly  Nine    65  female"
      ]
     },
     "execution_count": 12,
     "metadata": {},
     "output_type": "execute_result"
    }
   ],
   "source": [
    "\n",
    "# students whose name starts with 'J'\n",
    "stds_with_name_j = students[students.name.str.startswith('J')]\n",
    "stds_with_name_j.head()\n",
    "\n",
    "stds_with_name_gimmy = students[students.name.str.contains('Gimmy')]\n",
    "print(stds_with_name_gimmy)\n",
    "\n",
    "# students with marks between 40 and 50\n",
    "stds_with_mark_40to50 = students[students.mark.between(40,50)]\n",
    "stds_with_mark_40to50.head()\n",
    "\n",
    "# students of class Nine or Ten \n",
    "class_nine_or_ten = students[students['class'].isin(['Nine','Ten'])]\n",
    "class_nine_or_ten"
   ]
  },
  {
   "cell_type": "markdown",
   "metadata": {},
   "source": [
    "## Tilde(~)"
   ]
  },
  {
   "cell_type": "code",
   "execution_count": 15,
   "metadata": {},
   "outputs": [
    {
     "data": {
      "text/html": [
       "<div>\n",
       "<style scoped>\n",
       "    .dataframe tbody tr th:only-of-type {\n",
       "        vertical-align: middle;\n",
       "    }\n",
       "\n",
       "    .dataframe tbody tr th {\n",
       "        vertical-align: top;\n",
       "    }\n",
       "\n",
       "    .dataframe thead th {\n",
       "        text-align: right;\n",
       "    }\n",
       "</style>\n",
       "<table border=\"1\" class=\"dataframe\">\n",
       "  <thead>\n",
       "    <tr style=\"text-align: right;\">\n",
       "      <th></th>\n",
       "      <th>id</th>\n",
       "      <th>name</th>\n",
       "      <th>class</th>\n",
       "      <th>mark</th>\n",
       "      <th>gender</th>\n",
       "    </tr>\n",
       "  </thead>\n",
       "  <tbody>\n",
       "    <tr>\n",
       "      <th>0</th>\n",
       "      <td>1</td>\n",
       "      <td>John Deo</td>\n",
       "      <td>Four</td>\n",
       "      <td>75</td>\n",
       "      <td>female</td>\n",
       "    </tr>\n",
       "    <tr>\n",
       "      <th>1</th>\n",
       "      <td>2</td>\n",
       "      <td>Max Ruin</td>\n",
       "      <td>Three</td>\n",
       "      <td>85</td>\n",
       "      <td>male</td>\n",
       "    </tr>\n",
       "    <tr>\n",
       "      <th>2</th>\n",
       "      <td>3</td>\n",
       "      <td>Arnold</td>\n",
       "      <td>Three</td>\n",
       "      <td>55</td>\n",
       "      <td>male</td>\n",
       "    </tr>\n",
       "    <tr>\n",
       "      <th>3</th>\n",
       "      <td>4</td>\n",
       "      <td>Krish Star</td>\n",
       "      <td>Four</td>\n",
       "      <td>60</td>\n",
       "      <td>female</td>\n",
       "    </tr>\n",
       "    <tr>\n",
       "      <th>4</th>\n",
       "      <td>5</td>\n",
       "      <td>John Mike</td>\n",
       "      <td>Four</td>\n",
       "      <td>60</td>\n",
       "      <td>female</td>\n",
       "    </tr>\n",
       "  </tbody>\n",
       "</table>\n",
       "</div>"
      ],
      "text/plain": [
       "   id        name  class  mark  gender\n",
       "0   1    John Deo   Four    75  female\n",
       "1   2    Max Ruin  Three    85    male\n",
       "2   3      Arnold  Three    55    male\n",
       "3   4  Krish Star   Four    60  female\n",
       "4   5   John Mike   Four    60  female"
      ]
     },
     "execution_count": 15,
     "metadata": {},
     "output_type": "execute_result"
    }
   ],
   "source": [
    "# filter students who are not in class 'Nine'\n",
    "\n",
    "not_class_nine = students[~students['class'].isin(['Nine'])]\n",
    "not_class_nine.head()"
   ]
  },
  {
   "cell_type": "markdown",
   "metadata": {},
   "source": [
    "## Query"
   ]
  },
  {
   "cell_type": "code",
   "execution_count": 19,
   "metadata": {},
   "outputs": [
    {
     "data": {
      "text/html": [
       "<div>\n",
       "<style scoped>\n",
       "    .dataframe tbody tr th:only-of-type {\n",
       "        vertical-align: middle;\n",
       "    }\n",
       "\n",
       "    .dataframe tbody tr th {\n",
       "        vertical-align: top;\n",
       "    }\n",
       "\n",
       "    .dataframe thead th {\n",
       "        text-align: right;\n",
       "    }\n",
       "</style>\n",
       "<table border=\"1\" class=\"dataframe\">\n",
       "  <thead>\n",
       "    <tr style=\"text-align: right;\">\n",
       "      <th></th>\n",
       "      <th>id</th>\n",
       "      <th>name</th>\n",
       "      <th>class</th>\n",
       "      <th>mark</th>\n",
       "      <th>gender</th>\n",
       "    </tr>\n",
       "  </thead>\n",
       "  <tbody>\n",
       "    <tr>\n",
       "      <th>14</th>\n",
       "      <td>15</td>\n",
       "      <td>Tade Row</td>\n",
       "      <td>Four</td>\n",
       "      <td>88</td>\n",
       "      <td>male</td>\n",
       "    </tr>\n",
       "    <tr>\n",
       "      <th>15</th>\n",
       "      <td>16</td>\n",
       "      <td>Gimmy</td>\n",
       "      <td>Four</td>\n",
       "      <td>88</td>\n",
       "      <td>male</td>\n",
       "    </tr>\n",
       "    <tr>\n",
       "      <th>24</th>\n",
       "      <td>25</td>\n",
       "      <td>Giff Tow</td>\n",
       "      <td>Seven</td>\n",
       "      <td>88</td>\n",
       "      <td>male</td>\n",
       "    </tr>\n",
       "    <tr>\n",
       "      <th>30</th>\n",
       "      <td>31</td>\n",
       "      <td>Marry Toeey</td>\n",
       "      <td>Four</td>\n",
       "      <td>88</td>\n",
       "      <td>male</td>\n",
       "    </tr>\n",
       "  </tbody>\n",
       "</table>\n",
       "</div>"
      ],
      "text/plain": [
       "    id         name  class  mark gender\n",
       "14  15     Tade Row   Four    88   male\n",
       "15  16        Gimmy   Four    88   male\n",
       "24  25     Giff Tow  Seven    88   male\n",
       "30  31  Marry Toeey   Four    88   male"
      ]
     },
     "execution_count": 19,
     "metadata": {},
     "output_type": "execute_result"
    }
   ],
   "source": [
    "# filter students with marks above 85 and gender is 'male'\n",
    "\n",
    "query_filter = students.query(\" mark > 85 and gender == 'male'\")\n",
    "query_filter.head()"
   ]
  },
  {
   "cell_type": "markdown",
   "metadata": {},
   "source": [
    "## nlargest and nsmallest"
   ]
  },
  {
   "cell_type": "code",
   "execution_count": 20,
   "metadata": {},
   "outputs": [
    {
     "name": "stdout",
     "output_type": "stream",
     "text": [
      "    id       name  class  mark  gender\n",
      "32  33  Kenn Rein    Six    96  female\n",
      "11  12      Recky    Six    94  female\n",
      "31  32  Binn Rott  Seven    90  female\n",
      "    id   name class  mark gender\n",
      "18  19  Tinny  Nine    18   male\n",
      "16  17  Tumyu   Six    54   male\n"
     ]
    }
   ],
   "source": [
    "# Get top 3 students with the highest marks\n",
    "top_3_marks = students.nlargest(3,'mark')\n",
    "print(top_3_marks)\n",
    "\n",
    "# Get 2 students with the lowest mark\n",
    "lowest_2_marks = students.nsmallest(2,'mark')\n",
    "print(lowest_2_marks)\n"
   ]
  },
  {
   "cell_type": "markdown",
   "metadata": {},
   "source": [
    "## loc and iloc"
   ]
  },
  {
   "cell_type": "code",
   "execution_count": 21,
   "metadata": {},
   "outputs": [
    {
     "name": "stdout",
     "output_type": "stream",
     "text": [
      "   id         name  class  mark  gender\n",
      "2   3       Arnold  Three    55    male\n",
      "3   4   Krish Star   Four    60  female\n",
      "4   5    John Mike   Four    60  female\n",
      "5   6    Alex John   Four    55    male\n",
      "6   7  My John Rob  Fifth    78    male\n"
     ]
    }
   ],
   "source": [
    "# Using 'loc' to select rows with IDs greater than 2 \n",
    "loc_filter = students.loc[students['id']>2]\n",
    "print(loc_filter.head())\n",
    "## Using 'iloc' to select the first 3 rows\n",
    "iloc_filter = students.iloc[:3]"
   ]
  },
  {
   "cell_type": "code",
   "execution_count": null,
   "metadata": {},
   "outputs": [],
   "source": []
  }
 ],
 "metadata": {
  "kernelspec": {
   "display_name": "Python 3",
   "language": "python",
   "name": "python3"
  },
  "language_info": {
   "codemirror_mode": {
    "name": "ipython",
    "version": 3
   },
   "file_extension": ".py",
   "mimetype": "text/x-python",
   "name": "python",
   "nbconvert_exporter": "python",
   "pygments_lexer": "ipython3",
   "version": "3.12.7"
  }
 },
 "nbformat": 4,
 "nbformat_minor": 2
}
